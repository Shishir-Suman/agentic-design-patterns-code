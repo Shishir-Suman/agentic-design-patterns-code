{
 "cells": [
  {
   "cell_type": "markdown",
   "id": "a1d760ef-161f-4d9b-997a-8eeddddf377d",
   "metadata": {},
   "source": [
    "[![Open In Colab](https://colab.research.google.com/assets/colab-badge.svg)](https://colab.research.google.com/github/Shishir-Suman/agentic-design-patterns-code/blob/shishirs/tool_use_notebook/5_tool_calling.ipynb)"
   ]
  },
  {
   "cell_type": "markdown",
   "id": "9496ebb1-25a6-40e8-bf4b-99884bc4cb2e",
   "metadata": {
    "id": "9496ebb1-25a6-40e8-bf4b-99884bc4cb2e"
   },
   "source": [
    "# 1. Install Dependencies"
   ]
  },
  {
   "cell_type": "code",
   "execution_count": 1,
   "id": "t8nVkMERCbWP",
   "metadata": {
    "execution": {
     "iopub.execute_input": "2025-07-25T06:23:28.010799Z",
     "iopub.status.busy": "2025-07-25T06:23:28.010543Z",
     "iopub.status.idle": "2025-07-25T06:23:28.350963Z",
     "shell.execute_reply": "2025-07-25T06:23:28.350466Z"
    },
    "id": "t8nVkMERCbWP"
   },
   "outputs": [
    {
     "name": "stdout",
     "output_type": "stream",
     "text": [
      "pyenv: pip: command not found\r\n"
     ]
    },
    {
     "name": "stdout",
     "output_type": "stream",
     "text": [
      "\r\n",
      "The `pip' command exists in these Python versions:\r\n",
      "  3.11.11\r\n",
      "  3.11.11/envs/exp_tool\r\n",
      "  3.11.11/envs/py311\r\n",
      "  exp_tool\r\n",
      "  llm-flow\r\n",
      "  py311\r\n",
      "\r\n",
      "Note: See 'pyenv help global' for tips on allowing both\r\n",
      "      python2 and python3 to be found.\r\n"
     ]
    }
   ],
   "source": [
    "!pip install -q -U \"dotenv==0.9.9\" \"langchain-google-genai==2.1.8\" \"crewai==0.150.0\" \"google-adk==1.8.0\""
   ]
  },
  {
   "cell_type": "markdown",
   "id": "mw5jyVEQHf-H",
   "metadata": {
    "id": "mw5jyVEQHf-H"
   },
   "source": [
    "# 2. Import Packages"
   ]
  },
  {
   "cell_type": "code",
   "execution_count": 2,
   "id": "O4rGR_1FHgnP",
   "metadata": {
    "execution": {
     "iopub.execute_input": "2025-07-25T06:23:28.353166Z",
     "iopub.status.busy": "2025-07-25T06:23:28.353001Z",
     "iopub.status.idle": "2025-07-25T06:23:32.724402Z",
     "shell.execute_reply": "2025-07-25T06:23:32.724071Z"
    },
    "id": "O4rGR_1FHgnP"
   },
   "outputs": [],
   "source": [
    "import os, getpass\n",
    "import asyncio\n",
    "import nest_asyncio\n",
    "from typing import List\n",
    "from dotenv import load_dotenv\n",
    "import logging\n",
    "\n",
    "\n",
    "from langchain_google_genai import ChatGoogleGenerativeAI\n",
    "from langchain_core.prompts import ChatPromptTemplate\n",
    "from langchain_core.tools import tool as langchain_tool\n",
    "from langchain.agents import create_tool_calling_agent, AgentExecutor\n",
    "\n",
    "from crewai import Agent as CrewAgent, Task, Crew\n",
    "from crewai.tools import tool as crew_tool\n",
    "\n",
    "from google.adk.agents import Agent as ADKAgent, LlmAgent\n",
    "from google.adk.runners import Runner\n",
    "from google.adk.sessions import InMemorySessionService\n",
    "from google.adk.tools import google_search\n",
    "from google.adk.code_executors import BuiltInCodeExecutor\n",
    "from google.genai import types"
   ]
  },
  {
   "cell_type": "code",
   "execution_count": 3,
   "id": "cXTBfGe8IppO",
   "metadata": {
    "execution": {
     "iopub.execute_input": "2025-07-25T06:23:32.725713Z",
     "iopub.status.busy": "2025-07-25T06:23:32.725584Z",
     "iopub.status.idle": "2025-07-25T06:23:32.727230Z",
     "shell.execute_reply": "2025-07-25T06:23:32.727023Z"
    },
    "id": "cXTBfGe8IppO"
   },
   "outputs": [],
   "source": [
    "# Basic logging setup helps in debugging and tracking to execution.\n",
    "logging.basicConfig(level=logging.INFO, format='%(asctime)s - %(levelname)s - %(message)s')\n"
   ]
  },
  {
   "cell_type": "markdown",
   "id": "3nq-mQuMHaym",
   "metadata": {
    "id": "3nq-mQuMHaym"
   },
   "source": [
    "# 2. Setup API Keys"
   ]
  },
  {
   "cell_type": "code",
   "execution_count": 4,
   "id": "2b4848df-095b-4ddd-81ac-5949ab25c30e",
   "metadata": {
    "colab": {
     "base_uri": "https://localhost:8080/"
    },
    "execution": {
     "iopub.execute_input": "2025-07-25T06:23:32.728261Z",
     "iopub.status.busy": "2025-07-25T06:23:32.728200Z",
     "iopub.status.idle": "2025-07-25T06:23:32.729503Z",
     "shell.execute_reply": "2025-07-25T06:23:32.729287Z"
    },
    "id": "2b4848df-095b-4ddd-81ac-5949ab25c30e",
    "outputId": "14b17bb3-165c-422e-eb1c-1a903226ab45"
   },
   "outputs": [],
   "source": [
    "# Prompt the user securely and set API keys as an environment variables\n",
    "# os.environ[\"GOOGLE_API_KEY\"] = getpass.getpass(\"Enter your Google API key: \")\n",
    "# os.environ[\"OPENAI_API_KEY\"] = getpass.getpass(\"Enter your OpenAI API key: \")"
   ]
  },
  {
   "cell_type": "markdown",
   "id": "cd624f3b-4e5d-4a76-896e-1d9076c64727",
   "metadata": {
    "id": "cd624f3b-4e5d-4a76-896e-1d9076c64727"
   },
   "source": [
    "# 3. LangChain"
   ]
  },
  {
   "cell_type": "markdown",
   "id": "DgVRXVDbHuZA",
   "metadata": {
    "id": "DgVRXVDbHuZA"
   },
   "source": [
    "## 3.1 Setup LLM"
   ]
  },
  {
   "cell_type": "code",
   "execution_count": 5,
   "id": "d5VMXzAvHxiE",
   "metadata": {
    "colab": {
     "base_uri": "https://localhost:8080/"
    },
    "execution": {
     "iopub.execute_input": "2025-07-25T06:23:32.730500Z",
     "iopub.status.busy": "2025-07-25T06:23:32.730444Z",
     "iopub.status.idle": "2025-07-25T06:23:32.756682Z",
     "shell.execute_reply": "2025-07-25T06:23:32.756489Z"
    },
    "id": "d5VMXzAvHxiE",
    "outputId": "b278b507-9f09-4dbc-9322-53ab1c3ad67a"
   },
   "outputs": [
    {
     "name": "stdout",
     "output_type": "stream",
     "text": [
      "✅ Language model initialized: models/gemini-2.0-flash\n"
     ]
    }
   ],
   "source": [
    "try:\n",
    "   # A model with function/tool calling capabilities is required.\n",
    "   llm = ChatGoogleGenerativeAI(model=\"gemini-2.0-flash\", temperature=0)\n",
    "   print(f\"✅ Language model initialized: {llm.model}\")\n",
    "except Exception as e:\n",
    "   print(f\"🛑 Error initializing language model: {e}\")\n",
    "   llm = None"
   ]
  },
  {
   "cell_type": "markdown",
   "id": "90EOPzFTH33S",
   "metadata": {
    "id": "90EOPzFTH33S"
   },
   "source": [
    "## 3.2 Define Search Tool"
   ]
  },
  {
   "cell_type": "code",
   "execution_count": 6,
   "id": "jJacHepFH2-_",
   "metadata": {
    "execution": {
     "iopub.execute_input": "2025-07-25T06:23:32.757701Z",
     "iopub.status.busy": "2025-07-25T06:23:32.757639Z",
     "iopub.status.idle": "2025-07-25T06:23:32.760591Z",
     "shell.execute_reply": "2025-07-25T06:23:32.760378Z"
    },
    "id": "jJacHepFH2-_"
   },
   "outputs": [],
   "source": [
    "# --- Define a Tool ---\n",
    "@langchain_tool\n",
    "def search_information(query: str) -> str:\n",
    "   \"\"\"\n",
    "   Provides factual information on a given topic. Use this tool to find answers to phrases\n",
    "   like 'capital of France' or 'weather in London?'.\n",
    "   \"\"\"\n",
    "   print(f\"\\n--- 🛠️ Tool Called: search_information with query: '{query}' ---\")\n",
    "   # Simulate a search tool with a dictionary of predefined results.\n",
    "   simulated_results = {\n",
    "       \"weather in london\": \"The weather in London is currently cloudy with a temperature of 15°C.\",\n",
    "       \"capital of france\": \"The capital of France is Paris.\",\n",
    "       \"population of earth\": \"The estimated population of Earth is around 8 billion people.\",\n",
    "       \"tallest mountain\": \"Mount Everest is the tallest mountain above sea level.\",\n",
    "       \"default\": f\"Simulated search result for '{query}': No specific information found, but the topic seems interesting.\"\n",
    "   }\n",
    "   result = simulated_results.get(query.lower(), simulated_results[\"default\"])\n",
    "   print(f\"--- TOOL RESULT: {result} ---\")\n",
    "   return result\n",
    "\n",
    "\n",
    "tools = [search_information]"
   ]
  },
  {
   "cell_type": "markdown",
   "id": "_p91Mx8yH_w-",
   "metadata": {
    "id": "_p91Mx8yH_w-"
   },
   "source": [
    "## 3.3 Tool Calling Agent"
   ]
  },
  {
   "cell_type": "code",
   "execution_count": 7,
   "id": "8rOcIPQ0ICZK",
   "metadata": {
    "execution": {
     "iopub.execute_input": "2025-07-25T06:23:32.762254Z",
     "iopub.status.busy": "2025-07-25T06:23:32.762195Z",
     "iopub.status.idle": "2025-07-25T06:23:32.765863Z",
     "shell.execute_reply": "2025-07-25T06:23:32.765680Z"
    },
    "id": "8rOcIPQ0ICZK"
   },
   "outputs": [],
   "source": [
    "# --- Create a Tool-Calling Agent ---\n",
    "if llm:\n",
    "   # This prompt template requires an `agent_scratchpad` placeholder for the agent's internal steps.\n",
    "   agent_prompt = ChatPromptTemplate.from_messages([\n",
    "       (\"system\", \"You are a helpful assistant.\"),\n",
    "       (\"human\", \"{input}\"),\n",
    "       (\"placeholder\", \"{agent_scratchpad}\"),\n",
    "   ])\n",
    "\n",
    "\n",
    "   # Create the agent, binding the LLM, tools, and prompt together.\n",
    "   agent = create_tool_calling_agent(llm, tools, agent_prompt)\n",
    "\n",
    "\n",
    "   # AgentExecutor is the runtime that invokes the agent and executes the chosen tools.\n",
    "   # The 'tools' argument is not needed here as they are already bound to the agent.\n",
    "   agent_executor = AgentExecutor(agent=agent, verbose=True, tools=tools)"
   ]
  },
  {
   "cell_type": "markdown",
   "id": "gGZK5EWIIdwx",
   "metadata": {
    "id": "gGZK5EWIIdwx"
   },
   "source": [
    "## 3.4 Run Agent"
   ]
  },
  {
   "cell_type": "code",
   "execution_count": 8,
   "id": "b862b9e3-61a8-4654-9ffd-4128fce28f4b",
   "metadata": {
    "colab": {
     "base_uri": "https://localhost:8080/"
    },
    "execution": {
     "iopub.execute_input": "2025-07-25T06:23:32.766832Z",
     "iopub.status.busy": "2025-07-25T06:23:32.766770Z",
     "iopub.status.idle": "2025-07-25T06:23:37.108919Z",
     "shell.execute_reply": "2025-07-25T06:23:37.108214Z"
    },
    "id": "b862b9e3-61a8-4654-9ffd-4128fce28f4b",
    "outputId": "f11c2c08-f9f5-416b-8316-54baf2c653b5",
    "scrolled": true
   },
   "outputs": [
    {
     "name": "stdout",
     "output_type": "stream",
     "text": [
      "\n",
      "--- 🏃 Running Agent with Query: 'What is the capital of France?' ---\n",
      "\n",
      "--- 🏃 Running Agent with Query: 'What's the weather like in London?' ---\n",
      "\n",
      "--- 🏃 Running Agent with Query: 'Tell me something about dogs.' ---\n",
      "\n",
      "\n",
      "\u001b[1m> Entering new AgentExecutor chain...\u001b[0m\n",
      "\n",
      "\n",
      "\u001b[1m> Entering new AgentExecutor chain...\u001b[0m\n",
      "\n",
      "\n",
      "\u001b[1m> Entering new AgentExecutor chain...\u001b[0m\n"
     ]
    },
    {
     "name": "stdout",
     "output_type": "stream",
     "text": [
      "\u001b[32;1m\u001b[1;3m\n",
      "Invoking: `search_information` with `{'query': 'weather in London'}`\n",
      "\n",
      "\n",
      "\u001b[0m\n",
      "--- 🛠️ Tool Called: search_information with query: 'weather in London' ---\n",
      "--- TOOL RESULT: The weather in London is currently cloudy with a temperature of 15°C. ---\n",
      "\u001b[36;1m\u001b[1;3mThe weather in London is currently cloudy with a temperature of 15°C.\u001b[0m\u001b[32;1m\u001b[1;3m\n",
      "Invoking: `search_information` with `{'query': 'characteristics of dogs'}`\n",
      "\n",
      "\n",
      "\u001b[0m\u001b[32;1m\u001b[1;3m\n",
      "Invoking: `search_information` with `{'query': 'capital of France'}`\n",
      "\n",
      "\n",
      "\u001b[0m\n",
      "--- 🛠️ Tool Called: search_information with query: 'characteristics of dogs' ---\n",
      "--- TOOL RESULT: Simulated search result for 'characteristics of dogs': No specific information found, but the topic seems interesting. ---\n",
      "\n",
      "--- 🛠️ Tool Called: search_information with query: 'capital of France' ---\n",
      "--- TOOL RESULT: The capital of France is Paris. ---\n",
      "\u001b[36;1m\u001b[1;3mSimulated search result for 'characteristics of dogs': No specific information found, but the topic seems interesting.\u001b[0m\u001b[36;1m\u001b[1;3mThe capital of France is Paris.\u001b[0m"
     ]
    },
    {
     "name": "stdout",
     "output_type": "stream",
     "text": [
      "\u001b[32;1m\u001b[1;3mThe weather in London is currently cloudy with a temperature of 15°C.\n",
      "\u001b[0m\n",
      "\n",
      "\u001b[1m> Finished chain.\u001b[0m\n",
      "\n",
      "--- ✅ Final Agent Response ---\n",
      "The weather in London is currently cloudy with a temperature of 15°C.\n",
      "\n"
     ]
    },
    {
     "name": "stdout",
     "output_type": "stream",
     "text": [
      "\u001b[32;1m\u001b[1;3mThe capital of France is Paris.\n",
      "\u001b[0m\n",
      "\n",
      "\u001b[1m> Finished chain.\u001b[0m\n",
      "\n",
      "--- ✅ Final Agent Response ---\n",
      "The capital of France is Paris.\n",
      "\n"
     ]
    },
    {
     "name": "stdout",
     "output_type": "stream",
     "text": [
      "\u001b[32;1m\u001b[1;3mI'm sorry, I don't have enough information about dogs to fulfill your request. I can try a different query if you like. For example, I could search for different breeds of dogs, or the history of dogs.\u001b[0m\n",
      "\n",
      "\u001b[1m> Finished chain.\u001b[0m\n",
      "\n",
      "--- ✅ Final Agent Response ---\n",
      "I'm sorry, I don't have enough information about dogs to fulfill your request. I can try a different query if you like. For example, I could search for different breeds of dogs, or the history of dogs.\n"
     ]
    }
   ],
   "source": [
    "async def run_agent_with_tool(query: str):\n",
    "   \"\"\"Invokes the agent executor with a query and prints the final response.\"\"\"\n",
    "   print(f\"\\n--- 🏃 Running Agent with Query: '{query}' ---\")\n",
    "   try:\n",
    "       response = await agent_executor.ainvoke({\"input\": query})\n",
    "       print(\"\\n--- ✅ Final Agent Response ---\")\n",
    "       print(response[\"output\"])\n",
    "   except Exception as e:\n",
    "       print(f\"\\n🛑 An error occurred during agent execution: {e}\")\n",
    "\n",
    "\n",
    "async def main():\n",
    "   \"\"\"Runs all agent queries concurrently.\"\"\"\n",
    "   tasks = [\n",
    "       run_agent_with_tool(\"What is the capital of France?\"),\n",
    "       run_agent_with_tool(\"What's the weather like in London?\"),\n",
    "       run_agent_with_tool(\"Tell me something about dogs.\") # Should trigger the default tool response\n",
    "   ]\n",
    "   await asyncio.gather(*tasks)\n",
    "\n",
    "\n",
    "\n",
    "nest_asyncio.apply()\n",
    "asyncio.run(main())"
   ]
  },
  {
   "cell_type": "markdown",
   "id": "8aa008f4-94a2-4a8b-8165-f6fd213c0d40",
   "metadata": {
    "id": "8aa008f4-94a2-4a8b-8165-f6fd213c0d40"
   },
   "source": [
    "# 4. Crew AI"
   ]
  },
  {
   "cell_type": "markdown",
   "id": "2uSUtzdbJRZQ",
   "metadata": {
    "id": "2uSUtzdbJRZQ"
   },
   "source": [
    "## 4.1 Define Stock Price Search Tool"
   ]
  },
  {
   "cell_type": "code",
   "execution_count": 9,
   "id": "31df7900-9b2b-456c-b018-6a32db662bdc",
   "metadata": {
    "execution": {
     "iopub.execute_input": "2025-07-25T06:23:37.112253Z",
     "iopub.status.busy": "2025-07-25T06:23:37.111995Z",
     "iopub.status.idle": "2025-07-25T06:23:37.119765Z",
     "shell.execute_reply": "2025-07-25T06:23:37.119211Z"
    },
    "id": "31df7900-9b2b-456c-b018-6a32db662bdc"
   },
   "outputs": [],
   "source": [
    "# --- 1. Refactored Tool: Returns Clean Data ---\n",
    "# The tool now returns raw data (a float) or raises a standard Python error.\n",
    "# This makes it more reusable and forces the agent to handle outcomes properly.\n",
    "@crew_tool(\"Stock Price Lookup Tool\")\n",
    "def get_stock_price(ticker: str) -> float:\n",
    "   \"\"\"\n",
    "   Fetches the latest simulated stock price for a given stock ticker symbol.\n",
    "   Returns the price as a float. Raises a ValueError if the ticker is not found.\n",
    "   \"\"\"\n",
    "   logging.info(f\"Tool Call: get_stock_price for ticker '{ticker}'\")\n",
    "   simulated_prices = {\n",
    "       \"AAPL\": 178.15,\n",
    "       \"GOOGL\": 1750.30,\n",
    "       \"MSFT\": 425.50,\n",
    "   }\n",
    "   price = simulated_prices.get(ticker.upper())\n",
    "\n",
    "\n",
    "   if price is not None:\n",
    "       return price\n",
    "   else:\n",
    "       # Raising a specific error is better than returning a string.\n",
    "       # The agent is equipped to handle exceptions and can decide on the next action.\n",
    "       raise ValueError(f\"Simulated price for ticker '{ticker.upper()}' not found.\")\n",
    "\n",
    "\n",
    "\n",
    "\n"
   ]
  },
  {
   "cell_type": "markdown",
   "id": "WMqIW8n_JrkO",
   "metadata": {
    "id": "WMqIW8n_JrkO"
   },
   "source": [
    "## 4.2 Setup Crew Entities"
   ]
  },
  {
   "cell_type": "code",
   "execution_count": 10,
   "id": "XFd2tKTRJh72",
   "metadata": {
    "execution": {
     "iopub.execute_input": "2025-07-25T06:23:37.122182Z",
     "iopub.status.busy": "2025-07-25T06:23:37.121984Z",
     "iopub.status.idle": "2025-07-25T06:23:37.129796Z",
     "shell.execute_reply": "2025-07-25T06:23:37.129431Z"
    },
    "id": "XFd2tKTRJh72"
   },
   "outputs": [],
   "source": [
    "# --- 2. Define the Agent ---\n",
    "# The agent definition remains the same, but it will now leverage the improved tool.\n",
    "financial_analyst_agent = CrewAgent(\n",
    " role='Senior Financial Analyst',\n",
    " goal='Analyze stock data using provided tools and report key prices.',\n",
    " backstory=\"You are an experienced financial analyst adept at using data sources to find stock information. You provide clear, direct answers.\",\n",
    " verbose=True,\n",
    " tools=[get_stock_price],\n",
    " # Allowing delegation can be useful, but is not necessary for this simple task.\n",
    " allow_delegation=False,\n",
    ")\n",
    "\n",
    "\n",
    "# --- 3. Refined Task: Clearer Instructions and Error Handling ---\n",
    "# The task description is more specific and guides the agent on how to react\n",
    "# to both successful data retrieval and potential errors.\n",
    "analyze_aapl_task = Task(\n",
    " description=(\n",
    "     \"What is the current simulated stock price for Apple (ticker: AAPL)? \"\n",
    "     \"Use the 'Stock Price Lookup Tool' to find it. \"\n",
    "     \"If the ticker is not found, you must report that you were unable to retrieve the price.\"\n",
    " ),\n",
    " expected_output=(\n",
    "     \"A single, clear sentence stating the simulated stock price for AAPL. \"\n",
    "     \"For example: 'The simulated stock price for AAPL is $178.15.' \"\n",
    "     \"If the price cannot be found, state that clearly.\"\n",
    " ),\n",
    " agent=financial_analyst_agent,\n",
    ")\n",
    "\n",
    "\n",
    "# --- 4. Formulate the Crew ---\n",
    "# The crew orchestrates how the agent and task work together.\n",
    "financial_crew = Crew(\n",
    " agents=[financial_analyst_agent],\n",
    " tasks=[analyze_aapl_task],\n",
    " verbose=True # Set to False for less detailed logs in production\n",
    ")\n"
   ]
  },
  {
   "cell_type": "markdown",
   "id": "TBsi1L_oJmZi",
   "metadata": {
    "id": "TBsi1L_oJmZi"
   },
   "source": [
    "## 4.3 Run Crew Agent"
   ]
  },
  {
   "cell_type": "code",
   "execution_count": 11,
   "id": "ISnpTbLBJmzk",
   "metadata": {
    "colab": {
     "base_uri": "https://localhost:8080/",
     "height": 1000,
     "referenced_widgets": [
      "7a1bf0c71f61443db1e5d2447a62b35b",
      "c55eb2b50828424882fd461e91b5ac2d",
      "fd5b4fb5040e4e36959565afea9e7701",
      "0497ff5c13674844b55ac33d3b6648e3"
     ]
    },
    "execution": {
     "iopub.execute_input": "2025-07-25T06:23:37.131761Z",
     "iopub.status.busy": "2025-07-25T06:23:37.131605Z",
     "iopub.status.idle": "2025-07-25T06:23:39.462993Z",
     "shell.execute_reply": "2025-07-25T06:23:39.462634Z"
    },
    "id": "ISnpTbLBJmzk",
    "outputId": "11b95d51-3bbe-41d8-b5fd-3aa1b03a4130"
   },
   "outputs": [
    {
     "name": "stdout",
     "output_type": "stream",
     "text": [
      "\n",
      "## Starting the Financial Crew...\n",
      "---------------------------------\n"
     ]
    },
    {
     "data": {
      "text/html": [
       "<pre style=\"white-space:pre;overflow-x:auto;line-height:normal;font-family:Menlo,'DejaVu Sans Mono',consolas,'Courier New',monospace\"><span style=\"color: #008080; text-decoration-color: #008080\">╭──────────────────────────────────────────── Crew Execution Started ─────────────────────────────────────────────╮</span>\n",
       "<span style=\"color: #008080; text-decoration-color: #008080\">│</span>                                                                                                                 <span style=\"color: #008080; text-decoration-color: #008080\">│</span>\n",
       "<span style=\"color: #008080; text-decoration-color: #008080\">│</span>  <span style=\"color: #008080; text-decoration-color: #008080; font-weight: bold\">Crew Execution Started</span>                                                                                         <span style=\"color: #008080; text-decoration-color: #008080\">│</span>\n",
       "<span style=\"color: #008080; text-decoration-color: #008080\">│</span>  <span style=\"color: #c0c0c0; text-decoration-color: #c0c0c0\">Name: </span><span style=\"color: #008080; text-decoration-color: #008080\">crew</span>                                                                                                     <span style=\"color: #008080; text-decoration-color: #008080\">│</span>\n",
       "<span style=\"color: #008080; text-decoration-color: #008080\">│</span>  <span style=\"color: #c0c0c0; text-decoration-color: #c0c0c0\">ID: </span><span style=\"color: #008080; text-decoration-color: #008080\">64522b31-178b-4ac9-960d-be3ee1b95f22</span>                                                                       <span style=\"color: #008080; text-decoration-color: #008080\">│</span>\n",
       "<span style=\"color: #008080; text-decoration-color: #008080\">│</span>  <span style=\"color: #c0c0c0; text-decoration-color: #c0c0c0\">Tool Args: </span>                                                                                                    <span style=\"color: #008080; text-decoration-color: #008080\">│</span>\n",
       "<span style=\"color: #008080; text-decoration-color: #008080\">│</span>                                                                                                                 <span style=\"color: #008080; text-decoration-color: #008080\">│</span>\n",
       "<span style=\"color: #008080; text-decoration-color: #008080\">│</span>                                                                                                                 <span style=\"color: #008080; text-decoration-color: #008080\">│</span>\n",
       "<span style=\"color: #008080; text-decoration-color: #008080\">╰─────────────────────────────────────────────────────────────────────────────────────────────────────────────────╯</span>\n",
       "</pre>\n"
      ],
      "text/plain": [
       "\u001b[36m╭─\u001b[0m\u001b[36m───────────────────────────────────────────\u001b[0m\u001b[36m Crew Execution Started \u001b[0m\u001b[36m────────────────────────────────────────────\u001b[0m\u001b[36m─╮\u001b[0m\n",
       "\u001b[36m│\u001b[0m                                                                                                                 \u001b[36m│\u001b[0m\n",
       "\u001b[36m│\u001b[0m  \u001b[1;36mCrew Execution Started\u001b[0m                                                                                         \u001b[36m│\u001b[0m\n",
       "\u001b[36m│\u001b[0m  \u001b[37mName: \u001b[0m\u001b[36mcrew\u001b[0m                                                                                                     \u001b[36m│\u001b[0m\n",
       "\u001b[36m│\u001b[0m  \u001b[37mID: \u001b[0m\u001b[36m64522b31-178b-4ac9-960d-be3ee1b95f22\u001b[0m                                                                       \u001b[36m│\u001b[0m\n",
       "\u001b[36m│\u001b[0m  \u001b[37mTool Args: \u001b[0m                                                                                                    \u001b[36m│\u001b[0m\n",
       "\u001b[36m│\u001b[0m                                                                                                                 \u001b[36m│\u001b[0m\n",
       "\u001b[36m│\u001b[0m                                                                                                                 \u001b[36m│\u001b[0m\n",
       "\u001b[36m╰─────────────────────────────────────────────────────────────────────────────────────────────────────────────────╯\u001b[0m\n"
      ]
     },
     "metadata": {},
     "output_type": "display_data"
    },
    {
     "data": {
      "text/html": [
       "<pre style=\"white-space:pre;overflow-x:auto;line-height:normal;font-family:Menlo,'DejaVu Sans Mono',consolas,'Courier New',monospace\">\n",
       "</pre>\n"
      ],
      "text/plain": [
       "\n"
      ]
     },
     "metadata": {},
     "output_type": "display_data"
    },
    {
     "data": {
      "text/html": [
       "<pre style=\"white-space:pre;overflow-x:auto;line-height:normal;font-family:Menlo,'DejaVu Sans Mono',consolas,'Courier New',monospace\"></pre>\n"
      ],
      "text/plain": []
     },
     "metadata": {},
     "output_type": "display_data"
    },
    {
     "data": {
      "text/html": [
       "<pre style=\"white-space:pre;overflow-x:auto;line-height:normal;font-family:Menlo,'DejaVu Sans Mono',consolas,'Courier New',monospace\"><span style=\"color: #800080; text-decoration-color: #800080\">╭─────────────────────────────────────────────── 🤖 Agent Started ────────────────────────────────────────────────╮</span>\n",
       "<span style=\"color: #800080; text-decoration-color: #800080\">│</span>                                                                                                                 <span style=\"color: #800080; text-decoration-color: #800080\">│</span>\n",
       "<span style=\"color: #800080; text-decoration-color: #800080\">│</span>  <span style=\"color: #c0c0c0; text-decoration-color: #c0c0c0\">Agent: </span><span style=\"color: #00ff00; text-decoration-color: #00ff00; font-weight: bold\">Senior Financial Analyst</span>                                                                                <span style=\"color: #800080; text-decoration-color: #800080\">│</span>\n",
       "<span style=\"color: #800080; text-decoration-color: #800080\">│</span>                                                                                                                 <span style=\"color: #800080; text-decoration-color: #800080\">│</span>\n",
       "<span style=\"color: #800080; text-decoration-color: #800080\">│</span>  <span style=\"color: #c0c0c0; text-decoration-color: #c0c0c0\">Task: </span><span style=\"color: #00ff00; text-decoration-color: #00ff00\">What is the current simulated stock price for Apple (ticker: AAPL)? Use the 'Stock Price Lookup Tool' </span>   <span style=\"color: #800080; text-decoration-color: #800080\">│</span>\n",
       "<span style=\"color: #800080; text-decoration-color: #800080\">│</span>  <span style=\"color: #00ff00; text-decoration-color: #00ff00\">to find it. If the ticker is not found, you must report that you were unable to retrieve the price.</span>            <span style=\"color: #800080; text-decoration-color: #800080\">│</span>\n",
       "<span style=\"color: #800080; text-decoration-color: #800080\">│</span>                                                                                                                 <span style=\"color: #800080; text-decoration-color: #800080\">│</span>\n",
       "<span style=\"color: #800080; text-decoration-color: #800080\">╰─────────────────────────────────────────────────────────────────────────────────────────────────────────────────╯</span>\n",
       "</pre>\n"
      ],
      "text/plain": [
       "\u001b[35m╭─\u001b[0m\u001b[35m──────────────────────────────────────────────\u001b[0m\u001b[35m 🤖 Agent Started \u001b[0m\u001b[35m───────────────────────────────────────────────\u001b[0m\u001b[35m─╮\u001b[0m\n",
       "\u001b[35m│\u001b[0m                                                                                                                 \u001b[35m│\u001b[0m\n",
       "\u001b[35m│\u001b[0m  \u001b[37mAgent: \u001b[0m\u001b[1;92mSenior Financial Analyst\u001b[0m                                                                                \u001b[35m│\u001b[0m\n",
       "\u001b[35m│\u001b[0m                                                                                                                 \u001b[35m│\u001b[0m\n",
       "\u001b[35m│\u001b[0m  \u001b[37mTask: \u001b[0m\u001b[92mWhat is the current simulated stock price for Apple (ticker: AAPL)? Use the 'Stock Price Lookup Tool' \u001b[0m   \u001b[35m│\u001b[0m\n",
       "\u001b[35m│\u001b[0m  \u001b[92mto find it. If the ticker is not found, you must report that you were unable to retrieve the price.\u001b[0m            \u001b[35m│\u001b[0m\n",
       "\u001b[35m│\u001b[0m                                                                                                                 \u001b[35m│\u001b[0m\n",
       "\u001b[35m╰─────────────────────────────────────────────────────────────────────────────────────────────────────────────────╯\u001b[0m\n"
      ]
     },
     "metadata": {},
     "output_type": "display_data"
    },
    {
     "data": {
      "text/html": [
       "<pre style=\"white-space:pre;overflow-x:auto;line-height:normal;font-family:Menlo,'DejaVu Sans Mono',consolas,'Courier New',monospace\">\n",
       "</pre>\n"
      ],
      "text/plain": [
       "\n"
      ]
     },
     "metadata": {},
     "output_type": "display_data"
    },
    {
     "name": "stderr",
     "output_type": "stream",
     "text": [
      "\u001b[92m11:53:37 - LiteLLM:INFO\u001b[0m: utils.py:3119 - \n",
      "LiteLLM completion() model= gpt-4o-mini; provider = openai\n"
     ]
    },
    {
     "name": "stderr",
     "output_type": "stream",
     "text": [
      "2025-07-25 11:53:38,618 - INFO - HTTP Request: POST https://api.openai.com/v1/chat/completions \"HTTP/1.1 200 OK\"\n"
     ]
    },
    {
     "name": "stderr",
     "output_type": "stream",
     "text": [
      "\u001b[92m11:53:38 - LiteLLM:INFO\u001b[0m: utils.py:1215 - Wrapper: Completed Call, calling success_handler\n"
     ]
    },
    {
     "name": "stderr",
     "output_type": "stream",
     "text": [
      "2025-07-25 11:53:38,633 - INFO - Wrapper: Completed Call, calling success_handler\n"
     ]
    },
    {
     "name": "stderr",
     "output_type": "stream",
     "text": [
      "\u001b[92m11:53:38 - LiteLLM:INFO\u001b[0m: cost_calculator.py:655 - selected model name for cost calculation: openai/gpt-4o-mini-2024-07-18\n"
     ]
    },
    {
     "name": "stderr",
     "output_type": "stream",
     "text": [
      "2025-07-25 11:53:38,634 - INFO - selected model name for cost calculation: openai/gpt-4o-mini-2024-07-18\n",
      "\u001b[92m11:53:38 - LiteLLM:INFO\u001b[0m: cost_calculator.py:655 - selected model name for cost calculation: openai/gpt-4o-mini-2024-07-18\n"
     ]
    },
    {
     "name": "stderr",
     "output_type": "stream",
     "text": [
      "2025-07-25 11:53:38,634 - INFO - selected model name for cost calculation: openai/gpt-4o-mini-2024-07-18\n",
      "\u001b[92m11:53:38 - LiteLLM:INFO\u001b[0m: cost_calculator.py:655 - selected model name for cost calculation: openai/gpt-4o-mini-2024-07-18\n"
     ]
    },
    {
     "name": "stderr",
     "output_type": "stream",
     "text": [
      "2025-07-25 11:53:38,636 - INFO - selected model name for cost calculation: openai/gpt-4o-mini-2024-07-18\n"
     ]
    },
    {
     "data": {
      "text/html": [
       "<pre style=\"white-space:pre;overflow-x:auto;line-height:normal;font-family:Menlo,'DejaVu Sans Mono',consolas,'Courier New',monospace\">/Users/shishirsuman/Technology/Learning/Courses/Agents/.venv/lib/python3.11/site-packages/rich/live.py:231: \n",
       "UserWarning: install \"ipywidgets\" for Jupyter support\n",
       "  warnings.warn('install \"ipywidgets\" for Jupyter support')\n",
       "</pre>\n"
      ],
      "text/plain": [
       "/Users/shishirsuman/Technology/Learning/Courses/Agents/.venv/lib/python3.11/site-packages/rich/live.py:231: \n",
       "UserWarning: install \"ipywidgets\" for Jupyter support\n",
       "  warnings.warn('install \"ipywidgets\" for Jupyter support')\n"
      ]
     },
     "metadata": {},
     "output_type": "display_data"
    },
    {
     "name": "stderr",
     "output_type": "stream",
     "text": [
      "2025-07-25 11:53:38,639 - INFO - Tool Call: get_stock_price for ticker 'AAPL'\n"
     ]
    },
    {
     "data": {
      "text/html": [
       "<pre style=\"white-space:pre;overflow-x:auto;line-height:normal;font-family:Menlo,'DejaVu Sans Mono',consolas,'Courier New',monospace\"></pre>\n"
      ],
      "text/plain": []
     },
     "metadata": {},
     "output_type": "display_data"
    },
    {
     "data": {
      "text/html": [
       "<pre style=\"white-space:pre;overflow-x:auto;line-height:normal;font-family:Menlo,'DejaVu Sans Mono',consolas,'Courier New',monospace\"><span style=\"color: #800080; text-decoration-color: #800080\">╭──────────────────────────────────────────── 🔧 Agent Tool Execution ────────────────────────────────────────────╮</span>\n",
       "<span style=\"color: #800080; text-decoration-color: #800080\">│</span>                                                                                                                 <span style=\"color: #800080; text-decoration-color: #800080\">│</span>\n",
       "<span style=\"color: #800080; text-decoration-color: #800080\">│</span>  <span style=\"color: #c0c0c0; text-decoration-color: #c0c0c0\">Agent: </span><span style=\"color: #00ff00; text-decoration-color: #00ff00; font-weight: bold\">Senior Financial Analyst</span>                                                                                <span style=\"color: #800080; text-decoration-color: #800080\">│</span>\n",
       "<span style=\"color: #800080; text-decoration-color: #800080\">│</span>                                                                                                                 <span style=\"color: #800080; text-decoration-color: #800080\">│</span>\n",
       "<span style=\"color: #800080; text-decoration-color: #800080\">│</span>  <span style=\"color: #c0c0c0; text-decoration-color: #c0c0c0\">Thought: </span><span style=\"color: #00ff00; text-decoration-color: #00ff00\">Thought: I need to find the current simulated stock price for Apple (ticker: AAPL).</span>                   <span style=\"color: #800080; text-decoration-color: #800080\">│</span>\n",
       "<span style=\"color: #800080; text-decoration-color: #800080\">│</span>                                                                                                                 <span style=\"color: #800080; text-decoration-color: #800080\">│</span>\n",
       "<span style=\"color: #800080; text-decoration-color: #800080\">│</span>  <span style=\"color: #c0c0c0; text-decoration-color: #c0c0c0\">Using Tool: </span><span style=\"color: #00ff00; text-decoration-color: #00ff00; font-weight: bold\">Stock Price Lookup Tool</span>                                                                            <span style=\"color: #800080; text-decoration-color: #800080\">│</span>\n",
       "<span style=\"color: #800080; text-decoration-color: #800080\">│</span>                                                                                                                 <span style=\"color: #800080; text-decoration-color: #800080\">│</span>\n",
       "<span style=\"color: #800080; text-decoration-color: #800080\">╰─────────────────────────────────────────────────────────────────────────────────────────────────────────────────╯</span>\n",
       "</pre>\n"
      ],
      "text/plain": [
       "\u001b[35m╭─\u001b[0m\u001b[35m───────────────────────────────────────────\u001b[0m\u001b[35m 🔧 Agent Tool Execution \u001b[0m\u001b[35m───────────────────────────────────────────\u001b[0m\u001b[35m─╮\u001b[0m\n",
       "\u001b[35m│\u001b[0m                                                                                                                 \u001b[35m│\u001b[0m\n",
       "\u001b[35m│\u001b[0m  \u001b[37mAgent: \u001b[0m\u001b[1;92mSenior Financial Analyst\u001b[0m                                                                                \u001b[35m│\u001b[0m\n",
       "\u001b[35m│\u001b[0m                                                                                                                 \u001b[35m│\u001b[0m\n",
       "\u001b[35m│\u001b[0m  \u001b[37mThought: \u001b[0m\u001b[92mThought: I need to find the current simulated stock price for Apple (ticker: AAPL).\u001b[0m                   \u001b[35m│\u001b[0m\n",
       "\u001b[35m│\u001b[0m                                                                                                                 \u001b[35m│\u001b[0m\n",
       "\u001b[35m│\u001b[0m  \u001b[37mUsing Tool: \u001b[0m\u001b[1;92mStock Price Lookup Tool\u001b[0m                                                                            \u001b[35m│\u001b[0m\n",
       "\u001b[35m│\u001b[0m                                                                                                                 \u001b[35m│\u001b[0m\n",
       "\u001b[35m╰─────────────────────────────────────────────────────────────────────────────────────────────────────────────────╯\u001b[0m\n"
      ]
     },
     "metadata": {},
     "output_type": "display_data"
    },
    {
     "data": {
      "text/html": [
       "<pre style=\"white-space:pre;overflow-x:auto;line-height:normal;font-family:Menlo,'DejaVu Sans Mono',consolas,'Courier New',monospace\"><span style=\"color: #000080; text-decoration-color: #000080\">╭────────────────────────────────────────────────── Tool Input ───────────────────────────────────────────────────╮</span>\n",
       "<span style=\"color: #000080; text-decoration-color: #000080\">│</span>                                                                                                                 <span style=\"color: #000080; text-decoration-color: #000080\">│</span>\n",
       "<span style=\"color: #000080; text-decoration-color: #000080\">│</span>  <span style=\"color: #e6db74; text-decoration-color: #e6db74; background-color: #ffffff\">\"{\\\"ticker\\\": \\\"AAPL\\\"}\"</span>                                                                                       <span style=\"color: #000080; text-decoration-color: #000080\">│</span>\n",
       "<span style=\"color: #000080; text-decoration-color: #000080\">│</span>                                                                                                                 <span style=\"color: #000080; text-decoration-color: #000080\">│</span>\n",
       "<span style=\"color: #000080; text-decoration-color: #000080\">╰─────────────────────────────────────────────────────────────────────────────────────────────────────────────────╯</span>\n",
       "</pre>\n"
      ],
      "text/plain": [
       "\u001b[34m╭─\u001b[0m\u001b[34m─────────────────────────────────────────────────\u001b[0m\u001b[34m Tool Input \u001b[0m\u001b[34m──────────────────────────────────────────────────\u001b[0m\u001b[34m─╮\u001b[0m\n",
       "\u001b[34m│\u001b[0m                                                                                                                 \u001b[34m│\u001b[0m\n",
       "\u001b[34m│\u001b[0m  \u001b[38;2;230;219;116;49m\"{\\\"ticker\\\": \\\"AAPL\\\"}\"\u001b[0m                                                                                       \u001b[34m│\u001b[0m\n",
       "\u001b[34m│\u001b[0m                                                                                                                 \u001b[34m│\u001b[0m\n",
       "\u001b[34m╰─────────────────────────────────────────────────────────────────────────────────────────────────────────────────╯\u001b[0m\n"
      ]
     },
     "metadata": {},
     "output_type": "display_data"
    },
    {
     "data": {
      "text/html": [
       "<pre style=\"white-space:pre;overflow-x:auto;line-height:normal;font-family:Menlo,'DejaVu Sans Mono',consolas,'Courier New',monospace\"><span style=\"color: #008000; text-decoration-color: #008000\">╭────────────────────────────────────────────────── Tool Output ──────────────────────────────────────────────────╮</span>\n",
       "<span style=\"color: #008000; text-decoration-color: #008000\">│</span>                                                                                                                 <span style=\"color: #008000; text-decoration-color: #008000\">│</span>\n",
       "<span style=\"color: #008000; text-decoration-color: #008000\">│</span>  <span style=\"color: #00ff00; text-decoration-color: #00ff00\">178.15</span>                                                                                                         <span style=\"color: #008000; text-decoration-color: #008000\">│</span>\n",
       "<span style=\"color: #008000; text-decoration-color: #008000\">│</span>                                                                                                                 <span style=\"color: #008000; text-decoration-color: #008000\">│</span>\n",
       "<span style=\"color: #008000; text-decoration-color: #008000\">╰─────────────────────────────────────────────────────────────────────────────────────────────────────────────────╯</span>\n",
       "</pre>\n"
      ],
      "text/plain": [
       "\u001b[32m╭─\u001b[0m\u001b[32m─────────────────────────────────────────────────\u001b[0m\u001b[32m Tool Output \u001b[0m\u001b[32m─────────────────────────────────────────────────\u001b[0m\u001b[32m─╮\u001b[0m\n",
       "\u001b[32m│\u001b[0m                                                                                                                 \u001b[32m│\u001b[0m\n",
       "\u001b[32m│\u001b[0m  \u001b[92m178.15\u001b[0m                                                                                                         \u001b[32m│\u001b[0m\n",
       "\u001b[32m│\u001b[0m                                                                                                                 \u001b[32m│\u001b[0m\n",
       "\u001b[32m╰─────────────────────────────────────────────────────────────────────────────────────────────────────────────────╯\u001b[0m\n"
      ]
     },
     "metadata": {},
     "output_type": "display_data"
    },
    {
     "data": {
      "text/html": [
       "<pre style=\"white-space:pre;overflow-x:auto;line-height:normal;font-family:Menlo,'DejaVu Sans Mono',consolas,'Courier New',monospace\">\n",
       "</pre>\n"
      ],
      "text/plain": [
       "\n"
      ]
     },
     "metadata": {},
     "output_type": "display_data"
    },
    {
     "name": "stderr",
     "output_type": "stream",
     "text": [
      "\u001b[92m11:53:38 - LiteLLM:INFO\u001b[0m: utils.py:3119 - \n",
      "LiteLLM completion() model= gpt-4o-mini; provider = openai\n"
     ]
    },
    {
     "name": "stderr",
     "output_type": "stream",
     "text": [
      "2025-07-25 11:53:39,436 - INFO - HTTP Request: POST https://api.openai.com/v1/chat/completions \"HTTP/1.1 200 OK\"\n"
     ]
    },
    {
     "name": "stderr",
     "output_type": "stream",
     "text": [
      "\u001b[92m11:53:39 - LiteLLM:INFO\u001b[0m: utils.py:1215 - Wrapper: Completed Call, calling success_handler\n"
     ]
    },
    {
     "name": "stderr",
     "output_type": "stream",
     "text": [
      "2025-07-25 11:53:39,442 - INFO - Wrapper: Completed Call, calling success_handler\n"
     ]
    },
    {
     "name": "stderr",
     "output_type": "stream",
     "text": [
      "\u001b[92m11:53:39 - LiteLLM:INFO\u001b[0m: cost_calculator.py:655 - selected model name for cost calculation: openai/gpt-4o-mini-2024-07-18\n"
     ]
    },
    {
     "name": "stderr",
     "output_type": "stream",
     "text": [
      "2025-07-25 11:53:39,443 - INFO - selected model name for cost calculation: openai/gpt-4o-mini-2024-07-18\n",
      "\u001b[92m11:53:39 - LiteLLM:INFO\u001b[0m: cost_calculator.py:655 - selected model name for cost calculation: openai/gpt-4o-mini-2024-07-18\n"
     ]
    },
    {
     "name": "stderr",
     "output_type": "stream",
     "text": [
      "2025-07-25 11:53:39,443 - INFO - selected model name for cost calculation: openai/gpt-4o-mini-2024-07-18\n"
     ]
    },
    {
     "name": "stderr",
     "output_type": "stream",
     "text": [
      "\u001b[92m11:53:39 - LiteLLM:INFO\u001b[0m: cost_calculator.py:655 - selected model name for cost calculation: openai/gpt-4o-mini-2024-07-18\n"
     ]
    },
    {
     "data": {
      "text/html": [
       "<pre style=\"white-space:pre;overflow-x:auto;line-height:normal;font-family:Menlo,'DejaVu Sans Mono',consolas,'Courier New',monospace\"></pre>\n"
      ],
      "text/plain": []
     },
     "metadata": {},
     "output_type": "display_data"
    },
    {
     "name": "stderr",
     "output_type": "stream",
     "text": [
      "2025-07-25 11:53:39,448 - INFO - selected model name for cost calculation: openai/gpt-4o-mini-2024-07-18\n"
     ]
    },
    {
     "data": {
      "text/html": [
       "<pre style=\"white-space:pre;overflow-x:auto;line-height:normal;font-family:Menlo,'DejaVu Sans Mono',consolas,'Courier New',monospace\"><span style=\"color: #008000; text-decoration-color: #008000\">╭───────────────────────────────────────────── ✅ Agent Final Answer ─────────────────────────────────────────────╮</span>\n",
       "<span style=\"color: #008000; text-decoration-color: #008000\">│</span>                                                                                                                 <span style=\"color: #008000; text-decoration-color: #008000\">│</span>\n",
       "<span style=\"color: #008000; text-decoration-color: #008000\">│</span>  <span style=\"color: #c0c0c0; text-decoration-color: #c0c0c0\">Agent: </span><span style=\"color: #00ff00; text-decoration-color: #00ff00; font-weight: bold\">Senior Financial Analyst</span>                                                                                <span style=\"color: #008000; text-decoration-color: #008000\">│</span>\n",
       "<span style=\"color: #008000; text-decoration-color: #008000\">│</span>                                                                                                                 <span style=\"color: #008000; text-decoration-color: #008000\">│</span>\n",
       "<span style=\"color: #008000; text-decoration-color: #008000\">│</span>  <span style=\"color: #c0c0c0; text-decoration-color: #c0c0c0\">Final Answer:</span>                                                                                                  <span style=\"color: #008000; text-decoration-color: #008000\">│</span>\n",
       "<span style=\"color: #008000; text-decoration-color: #008000\">│</span>  <span style=\"color: #00ff00; text-decoration-color: #00ff00\">The simulated stock price for AAPL is $178.15.</span>                                                                 <span style=\"color: #008000; text-decoration-color: #008000\">│</span>\n",
       "<span style=\"color: #008000; text-decoration-color: #008000\">│</span>                                                                                                                 <span style=\"color: #008000; text-decoration-color: #008000\">│</span>\n",
       "<span style=\"color: #008000; text-decoration-color: #008000\">╰─────────────────────────────────────────────────────────────────────────────────────────────────────────────────╯</span>\n",
       "</pre>\n"
      ],
      "text/plain": [
       "\u001b[32m╭─\u001b[0m\u001b[32m────────────────────────────────────────────\u001b[0m\u001b[32m ✅ Agent Final Answer \u001b[0m\u001b[32m────────────────────────────────────────────\u001b[0m\u001b[32m─╮\u001b[0m\n",
       "\u001b[32m│\u001b[0m                                                                                                                 \u001b[32m│\u001b[0m\n",
       "\u001b[32m│\u001b[0m  \u001b[37mAgent: \u001b[0m\u001b[1;92mSenior Financial Analyst\u001b[0m                                                                                \u001b[32m│\u001b[0m\n",
       "\u001b[32m│\u001b[0m                                                                                                                 \u001b[32m│\u001b[0m\n",
       "\u001b[32m│\u001b[0m  \u001b[37mFinal Answer:\u001b[0m                                                                                                  \u001b[32m│\u001b[0m\n",
       "\u001b[32m│\u001b[0m  \u001b[92mThe simulated stock price for AAPL is $178.15.\u001b[0m                                                                 \u001b[32m│\u001b[0m\n",
       "\u001b[32m│\u001b[0m                                                                                                                 \u001b[32m│\u001b[0m\n",
       "\u001b[32m╰─────────────────────────────────────────────────────────────────────────────────────────────────────────────────╯\u001b[0m\n"
      ]
     },
     "metadata": {},
     "output_type": "display_data"
    },
    {
     "data": {
      "text/html": [
       "<pre style=\"white-space:pre;overflow-x:auto;line-height:normal;font-family:Menlo,'DejaVu Sans Mono',consolas,'Courier New',monospace\">\n",
       "</pre>\n"
      ],
      "text/plain": [
       "\n"
      ]
     },
     "metadata": {},
     "output_type": "display_data"
    },
    {
     "data": {
      "text/html": [
       "<pre style=\"white-space:pre;overflow-x:auto;line-height:normal;font-family:Menlo,'DejaVu Sans Mono',consolas,'Courier New',monospace\"></pre>\n"
      ],
      "text/plain": []
     },
     "metadata": {},
     "output_type": "display_data"
    },
    {
     "data": {
      "text/html": [
       "<pre style=\"white-space:pre;overflow-x:auto;line-height:normal;font-family:Menlo,'DejaVu Sans Mono',consolas,'Courier New',monospace\"><span style=\"color: #008000; text-decoration-color: #008000\">╭──────────────────────────────────────────────── Task Completion ────────────────────────────────────────────────╮</span>\n",
       "<span style=\"color: #008000; text-decoration-color: #008000\">│</span>                                                                                                                 <span style=\"color: #008000; text-decoration-color: #008000\">│</span>\n",
       "<span style=\"color: #008000; text-decoration-color: #008000\">│</span>  <span style=\"color: #008000; text-decoration-color: #008000; font-weight: bold\">Task Completed</span>                                                                                                 <span style=\"color: #008000; text-decoration-color: #008000\">│</span>\n",
       "<span style=\"color: #008000; text-decoration-color: #008000\">│</span>  <span style=\"color: #c0c0c0; text-decoration-color: #c0c0c0\">Name: </span><span style=\"color: #008000; text-decoration-color: #008000\">adbcc680-ad05-4d16-8ce1-c2ed0e12b9b9</span>                                                                     <span style=\"color: #008000; text-decoration-color: #008000\">│</span>\n",
       "<span style=\"color: #008000; text-decoration-color: #008000\">│</span>  <span style=\"color: #c0c0c0; text-decoration-color: #c0c0c0\">Agent: </span><span style=\"color: #008000; text-decoration-color: #008000\">Senior Financial Analyst</span>                                                                                <span style=\"color: #008000; text-decoration-color: #008000\">│</span>\n",
       "<span style=\"color: #008000; text-decoration-color: #008000\">│</span>  <span style=\"color: #c0c0c0; text-decoration-color: #c0c0c0\">Tool Args: </span>                                                                                                    <span style=\"color: #008000; text-decoration-color: #008000\">│</span>\n",
       "<span style=\"color: #008000; text-decoration-color: #008000\">│</span>                                                                                                                 <span style=\"color: #008000; text-decoration-color: #008000\">│</span>\n",
       "<span style=\"color: #008000; text-decoration-color: #008000\">│</span>                                                                                                                 <span style=\"color: #008000; text-decoration-color: #008000\">│</span>\n",
       "<span style=\"color: #008000; text-decoration-color: #008000\">╰─────────────────────────────────────────────────────────────────────────────────────────────────────────────────╯</span>\n",
       "</pre>\n"
      ],
      "text/plain": [
       "\u001b[32m╭─\u001b[0m\u001b[32m───────────────────────────────────────────────\u001b[0m\u001b[32m Task Completion \u001b[0m\u001b[32m───────────────────────────────────────────────\u001b[0m\u001b[32m─╮\u001b[0m\n",
       "\u001b[32m│\u001b[0m                                                                                                                 \u001b[32m│\u001b[0m\n",
       "\u001b[32m│\u001b[0m  \u001b[1;32mTask Completed\u001b[0m                                                                                                 \u001b[32m│\u001b[0m\n",
       "\u001b[32m│\u001b[0m  \u001b[37mName: \u001b[0m\u001b[32madbcc680-ad05-4d16-8ce1-c2ed0e12b9b9\u001b[0m                                                                     \u001b[32m│\u001b[0m\n",
       "\u001b[32m│\u001b[0m  \u001b[37mAgent: \u001b[0m\u001b[32mSenior Financial Analyst\u001b[0m                                                                                \u001b[32m│\u001b[0m\n",
       "\u001b[32m│\u001b[0m  \u001b[37mTool Args: \u001b[0m                                                                                                    \u001b[32m│\u001b[0m\n",
       "\u001b[32m│\u001b[0m                                                                                                                 \u001b[32m│\u001b[0m\n",
       "\u001b[32m│\u001b[0m                                                                                                                 \u001b[32m│\u001b[0m\n",
       "\u001b[32m╰─────────────────────────────────────────────────────────────────────────────────────────────────────────────────╯\u001b[0m\n"
      ]
     },
     "metadata": {},
     "output_type": "display_data"
    },
    {
     "data": {
      "text/html": [
       "<pre style=\"white-space:pre;overflow-x:auto;line-height:normal;font-family:Menlo,'DejaVu Sans Mono',consolas,'Courier New',monospace\">\n",
       "</pre>\n"
      ],
      "text/plain": [
       "\n"
      ]
     },
     "metadata": {},
     "output_type": "display_data"
    },
    {
     "data": {
      "text/html": [
       "<pre style=\"white-space:pre;overflow-x:auto;line-height:normal;font-family:Menlo,'DejaVu Sans Mono',consolas,'Courier New',monospace\"><span style=\"color: #008000; text-decoration-color: #008000\">╭──────────────────────────────────────────────── Crew Completion ────────────────────────────────────────────────╮</span>\n",
       "<span style=\"color: #008000; text-decoration-color: #008000\">│</span>                                                                                                                 <span style=\"color: #008000; text-decoration-color: #008000\">│</span>\n",
       "<span style=\"color: #008000; text-decoration-color: #008000\">│</span>  <span style=\"color: #008000; text-decoration-color: #008000; font-weight: bold\">Crew Execution Completed</span>                                                                                       <span style=\"color: #008000; text-decoration-color: #008000\">│</span>\n",
       "<span style=\"color: #008000; text-decoration-color: #008000\">│</span>  <span style=\"color: #c0c0c0; text-decoration-color: #c0c0c0\">Name: </span><span style=\"color: #008000; text-decoration-color: #008000\">crew</span>                                                                                                     <span style=\"color: #008000; text-decoration-color: #008000\">│</span>\n",
       "<span style=\"color: #008000; text-decoration-color: #008000\">│</span>  <span style=\"color: #c0c0c0; text-decoration-color: #c0c0c0\">ID: </span><span style=\"color: #008000; text-decoration-color: #008000\">64522b31-178b-4ac9-960d-be3ee1b95f22</span>                                                                       <span style=\"color: #008000; text-decoration-color: #008000\">│</span>\n",
       "<span style=\"color: #008000; text-decoration-color: #008000\">│</span>  <span style=\"color: #c0c0c0; text-decoration-color: #c0c0c0\">Tool Args: </span>                                                                                                    <span style=\"color: #008000; text-decoration-color: #008000\">│</span>\n",
       "<span style=\"color: #008000; text-decoration-color: #008000\">│</span>  <span style=\"color: #c0c0c0; text-decoration-color: #c0c0c0\">Final Output: The simulated stock price for AAPL is $178.15.</span>                                                   <span style=\"color: #008000; text-decoration-color: #008000\">│</span>\n",
       "<span style=\"color: #008000; text-decoration-color: #008000\">│</span>                                                                                                                 <span style=\"color: #008000; text-decoration-color: #008000\">│</span>\n",
       "<span style=\"color: #008000; text-decoration-color: #008000\">│</span>                                                                                                                 <span style=\"color: #008000; text-decoration-color: #008000\">│</span>\n",
       "<span style=\"color: #008000; text-decoration-color: #008000\">╰─────────────────────────────────────────────────────────────────────────────────────────────────────────────────╯</span>\n",
       "</pre>\n"
      ],
      "text/plain": [
       "\u001b[32m╭─\u001b[0m\u001b[32m───────────────────────────────────────────────\u001b[0m\u001b[32m Crew Completion \u001b[0m\u001b[32m───────────────────────────────────────────────\u001b[0m\u001b[32m─╮\u001b[0m\n",
       "\u001b[32m│\u001b[0m                                                                                                                 \u001b[32m│\u001b[0m\n",
       "\u001b[32m│\u001b[0m  \u001b[1;32mCrew Execution Completed\u001b[0m                                                                                       \u001b[32m│\u001b[0m\n",
       "\u001b[32m│\u001b[0m  \u001b[37mName: \u001b[0m\u001b[32mcrew\u001b[0m                                                                                                     \u001b[32m│\u001b[0m\n",
       "\u001b[32m│\u001b[0m  \u001b[37mID: \u001b[0m\u001b[32m64522b31-178b-4ac9-960d-be3ee1b95f22\u001b[0m                                                                       \u001b[32m│\u001b[0m\n",
       "\u001b[32m│\u001b[0m  \u001b[37mTool Args: \u001b[0m                                                                                                    \u001b[32m│\u001b[0m\n",
       "\u001b[32m│\u001b[0m  \u001b[37mFinal Output: The simulated stock price for AAPL is $178.15.\u001b[0m                                                   \u001b[32m│\u001b[0m\n",
       "\u001b[32m│\u001b[0m                                                                                                                 \u001b[32m│\u001b[0m\n",
       "\u001b[32m│\u001b[0m                                                                                                                 \u001b[32m│\u001b[0m\n",
       "\u001b[32m╰─────────────────────────────────────────────────────────────────────────────────────────────────────────────────╯\u001b[0m\n"
      ]
     },
     "metadata": {},
     "output_type": "display_data"
    },
    {
     "data": {
      "text/html": [
       "<pre style=\"white-space:pre;overflow-x:auto;line-height:normal;font-family:Menlo,'DejaVu Sans Mono',consolas,'Courier New',monospace\">\n",
       "</pre>\n"
      ],
      "text/plain": [
       "\n"
      ]
     },
     "metadata": {},
     "output_type": "display_data"
    },
    {
     "name": "stdout",
     "output_type": "stream",
     "text": [
      "\n",
      "---------------------------------\n",
      "## Crew execution finished.\n",
      "\n",
      "Final Result:\n",
      " The simulated stock price for AAPL is $178.15.\n"
     ]
    }
   ],
   "source": [
    "\n",
    "\n",
    "# --- 5. Run the Crew within a Main Execution Block ---\n",
    "# Using a __name__ == \"__main__\": block is a standard Python best practice.\n",
    "def main():\n",
    "   \"\"\"Main function to run the crew.\"\"\"\n",
    "   # Check for API key before starting to avoid runtime errors.\n",
    "   if not os.environ.get(\"OPENAI_API_KEY\"):\n",
    "       print(\"ERROR: The OPENAI_API_KEY environment variable is not set.\")\n",
    "       print(\"Please set it before running the script.\")\n",
    "       return\n",
    "\n",
    "\n",
    "   print(\"\\n## Starting the Financial Crew...\")\n",
    "   print(\"---------------------------------\")\n",
    "\n",
    "   # The kickoff method starts the execution.\n",
    "   result = financial_crew.kickoff()\n",
    "\n",
    "\n",
    "   print(\"\\n---------------------------------\")\n",
    "   print(\"## Crew execution finished.\")\n",
    "   print(\"\\nFinal Result:\\n\", result)\n",
    "\n",
    "\n",
    "if __name__ == \"__main__\":\n",
    "   main()\n"
   ]
  },
  {
   "cell_type": "markdown",
   "id": "01de8db8-25f9-420f-9698-8e93c8ab98fe",
   "metadata": {
    "id": "01de8db8-25f9-420f-9698-8e93c8ab98fe"
   },
   "source": [
    "# 5. Google Agent Development Kit (ADK)"
   ]
  },
  {
   "cell_type": "markdown",
   "id": "e04c9ab5-bbfe-4eb3-aa2d-64f8bfcd97b3",
   "metadata": {
    "id": "e04c9ab5-bbfe-4eb3-aa2d-64f8bfcd97b3"
   },
   "source": [
    "## 5.1 Agent with Search Tool"
   ]
  },
  {
   "cell_type": "code",
   "execution_count": 12,
   "id": "350b5cb0-666f-46a6-b0b3-4d3c5df6c760",
   "metadata": {
    "colab": {
     "base_uri": "https://localhost:8080/"
    },
    "execution": {
     "iopub.execute_input": "2025-07-25T06:23:39.464863Z",
     "iopub.status.busy": "2025-07-25T06:23:39.464725Z",
     "iopub.status.idle": "2025-07-25T06:23:45.291775Z",
     "shell.execute_reply": "2025-07-25T06:23:45.291253Z"
    },
    "id": "350b5cb0-666f-46a6-b0b3-4d3c5df6c760",
    "outputId": "f855479b-687a-450e-b721-1a760dfdde4c",
    "scrolled": true
   },
   "outputs": [
    {
     "name": "stderr",
     "output_type": "stream",
     "text": [
      "2025-07-25 11:53:39,520 - INFO - Sending out request, model: gemini-2.0-flash-exp, backend: GoogleLLMVariant.GEMINI_API, stream: False\n"
     ]
    },
    {
     "name": "stderr",
     "output_type": "stream",
     "text": [
      "2025-07-25 11:53:39,520 - INFO - \n",
      "LLM Request:\n",
      "-----------------------------------------------------------\n",
      "System Instruction:\n",
      "I can answer your questions by searching the internet. Just ask me anything!\n",
      "\n",
      "You are an agent. Your internal name is \"basic_search_agent\".\n",
      "\n",
      " The description about you is \"Agent to answer questions using Google Search.\"\n",
      "-----------------------------------------------------------\n",
      "Contents:\n",
      "{\"parts\":[{\"text\":\"what's the latest ai news?\"}],\"role\":\"user\"}\n",
      "-----------------------------------------------------------\n",
      "Functions:\n",
      "\n",
      "-----------------------------------------------------------\n",
      "\n"
     ]
    },
    {
     "name": "stderr",
     "output_type": "stream",
     "text": [
      "2025-07-25 11:53:39,520 - INFO - AFC is enabled with max remote calls: 10.\n"
     ]
    },
    {
     "name": "stderr",
     "output_type": "stream",
     "text": [
      "2025-07-25 11:53:45,282 - INFO - \n",
      "LLM Response:\n",
      "-----------------------------------------------------------\n",
      "Text:\n",
      "Here's a summary of the latest AI news:\n",
      "\n",
      "**AI Developments & Announcements**\n",
      "\n",
      "*   **Google's AI Updates:** In June, Google focused on making AI models faster and cheaper, improving voice search and photo finding, and aiding education and scientific research.\n",
      "*   **AI and Music:** AR Rahman met with Sam Altman at OpenAI to discuss AI's role in music, highlighting projects that blend music, technology, and storytelling.\n",
      "*   **AI for Weather Prediction:** Google DeepMind and Google Research launched Weather Lab, an interactive website for sharing AI weather models to support better tropical cyclone prediction.\n",
      "*   **AI for Genome Understanding:** Google introduced AlphaGenome, an AI model to advance regulatory variant-effect prediction and provide insights into genome function.\n",
      "\n",
      "**Business & Talent Moves**\n",
      "\n",
      "*   **AI Talent War:** Microsoft is actively hiring AI talent, including poaching from Google's DeepMind. Meta has also hired AI researchers from Apple.\n",
      "*   **Investments in AI:** Gupshup raised over $60 million to expand its Conversational AI and messaging platform. Salesforce is set to acquire Informatica in an $8 billion deal.\n",
      "*   **OpenAI and Oracle:** Announced a Stargate AI data center deal.\n",
      "\n",
      "**AI Safety & Ethical Concerns**\n",
      "\n",
      "*   **Sam Altman's Warnings:** Sam Altman (OpenAI CEO) warned of potential job losses and national security threats due to AI. He also cautioned bankers and regulators about a coming fraud \"crisis.\"\n",
      "*   **AI's Ethical Lapses:** A study revealed that even advanced AI models like ChatGPT can make basic errors in ethical medical decisions.\n",
      "\n",
      "**AI Applications**\n",
      "\n",
      "*   **AI in Insurance:** AI is changing the rules within the insurance industry.\n",
      "*   **AI in Government:** The mayor of San Jose is using ChatGPT for speeches and budgets.\n",
      "*   **Military AI:** Anthropic, OpenAI, Google, and xAI have been awarded military AI contracts.\n",
      "\n",
      "**Other News**\n",
      "\n",
      "*   **EU AI Code:** Tech giants are divided on the EU AI code as the compliance deadline approaches.\n",
      "*   **Baby Grok:** Elon Musk announced a kid-friendly AI app called 'Baby Grok'.\n",
      "*   **AI in Search:** Google is experimenting with AI-organized search results pages.\n",
      "\n",
      "-----------------------------------------------------------\n",
      "Function calls:\n",
      "\n",
      "-----------------------------------------------------------\n",
      "Raw response:\n",
      "{\"sdk_http_response\":{\"headers\":{\"Content-Type\":\"application/json; charset=UTF-8\",\"Vary\":\"Origin, X-Origin, Referer\",\"Content-Encoding\":\"gzip\",\"Date\":\"Fri, 25 Jul 2025 06:23:45 GMT\",\"Server\":\"scaffolding on HTTPServer2\",\"X-XSS-Protection\":\"0\",\"X-Frame-Options\":\"SAMEORIGIN\",\"X-Content-Type-Options\":\"nosniff\",\"Server-Timing\":\"gfet4t7; dur=5576\",\"Alt-Svc\":\"h3=\\\":443\\\"; ma=2592000,h3-29=\\\":443\\\"; ma=2592000\",\"Transfer-Encoding\":\"chunked\"}},\"candidates\":[{\"content\":{\"parts\":[{\"text\":\"Here's a summary of the latest AI news:\\n\\n**AI Developments & Announcements**\\n\\n*   **Google's AI Updates:** In June, Google focused on making AI models faster and cheaper, improving voice search and photo finding, and aiding education and scientific research.\\n*   **AI and Music:** AR Rahman met with Sam Altman at OpenAI to discuss AI's role in music, highlighting projects that blend music, technology, and storytelling.\\n*   **AI for Weather Prediction:** Google DeepMind and Google Research launched Weather Lab, an interactive website for sharing AI weather models to support better tropical cyclone prediction.\\n*   **AI for Genome Understanding:** Google introduced AlphaGenome, an AI model to advance regulatory variant-effect prediction and provide insights into genome function.\\n\\n**Business & Talent Moves**\\n\\n*   **AI Talent War:** Microsoft is actively hiring AI talent, including poaching from Google's DeepMind. Meta has also hired AI researchers from Apple.\\n*   **Investments in AI:** Gupshup raised over $60 million to expand its Conversational AI and messaging platform. Salesforce is set to acquire Informatica in an $8 billion deal.\\n*   **OpenAI and Oracle:** Announced a Stargate AI data center deal.\\n\\n**AI Safety & Ethical Concerns**\\n\\n*   **Sam Altman's Warnings:** Sam Altman (OpenAI CEO) warned of potential job losses and national security threats due to AI. He also cautioned bankers and regulators about a coming fraud \\\"crisis.\\\"\\n*   **AI's Ethical Lapses:** A study revealed that even advanced AI models like ChatGPT can make basic errors in ethical medical decisions.\\n\\n**AI Applications**\\n\\n*   **AI in Insurance:** AI is changing the rules within the insurance industry.\\n*   **AI in Government:** The mayor of San Jose is using ChatGPT for speeches and budgets.\\n*   **Military AI:** Anthropic, OpenAI, Google, and xAI have been awarded military AI contracts.\\n\\n**Other News**\\n\\n*   **EU AI Code:** Tech giants are divided on the EU AI code as the compliance deadline approaches.\\n*   **Baby Grok:** Elon Musk announced a kid-friendly AI app called 'Baby Grok'.\\n*   **AI in Search:** Google is experimenting with AI-organized search results pages.\\n\"}],\"role\":\"model\"},\"finish_reason\":\"STOP\",\"grounding_metadata\":{\"grounding_chunks\":[{\"web\":{\"title\":\"blog.google\",\"uri\":\"https://vertexaisearch.cloud.sandbox.google.com/grounding-api-redirect/AYcfRb_sBHYxMN85ppZzBc15OtrVosxq-0rem930yZILVboYY39Kcz5QZxD9fK3aPFl-rt4rmsxY5HLQYklPmelU4eVjW561x6rZqFtdXc3H-RZKqp6I6aDUeJoSezY-XVqxA6TJsJv6gajL3IuchCSQR6VQG1N7DNItfOkZ\"}},{\"web\":{\"title\":\"analyticsindiamag.com\",\"uri\":\"https://vertexaisearch.cloud.sandbox.google.com/grounding-api-redirect/AYcfRb8dl4x3f2uFTMfxK3Q4pmw4Mr8TVMIJW4PyH945lvRzAqDdEscFazq_hQB_J9wuBduQbSl52ZrU0jDf6LMaWzTWTgP9-8RGyib4DZv5MxcvSNzD9xpr284bTEakdwOTYMnlCqPx6yZMYxA=\"}},{\"web\":{\"title\":\"livemint.com\",\"uri\":\"https://vertexaisearch.cloud.sandbox.google.com/grounding-api-redirect/AYcfRb8_mwMu0hK-56UBBF42HmUTBIHVvwe8xDFt3pgQp0MGIPlWueOdHzTvYe1CoztH6dNtVb_Fx-5gwTKSay1m-0WTP3-wVh5sgAmI527poetuXfGycbCtQw==\"}},{\"web\":{\"title\":\"artificialintelligence-news.com\",\"uri\":\"https://vertexaisearch.cloud.sandbox.google.com/grounding-api-redirect/AYcfRb-1SdBjT4vgFruDgrZDXg2VclCtbzRZym89y2BraB3VqHVSruVBHqo3BNTfeRKqydHYBCaoaS36cf3SiTw-z60nmSAjS6mYXgNPcDWBxErMTLHiNe0F_VrFFLML3dWa4DyH2DPjIiXR\"}},{\"web\":{\"title\":\"sciencedaily.com\",\"uri\":\"https://vertexaisearch.cloud.sandbox.google.com/grounding-api-redirect/AYcfRb-Zykw9OZGDoJ4dWo41iBYQrs2oGsdjjbzA1O1GbJxMzTcBkvafeK6fBtPTXzCbvXQZyt5n4kCo6ByaHAQ9CzUd1Lt3Sl4qU3s09mY38japfYaHQEd7XhiYFY5wOXDE6bFRB7UkQXTpAqEvPhI5oHTF4J9wLwDzH9JiTMEkcINKLqauUf4=\"}}],\"grounding_supports\":[{\"confidence_scores\":[0.92984587],\"grounding_chunk_indices\":[0],\"segment\":{\"end_index\":258,\"start_index\":78,\"text\":\"*   **Google's AI Updates:** In June, Google focused on making AI models faster and cheaper, improving voice search and photo finding, and aiding education and scientific research.\"}},{\"confidence_scores\":[0.8960839],\"grounding_chunk_indices\":[1],\"segment\":{\"end_index\":421,\"start_index\":259,\"text\":\"*   **AI and Music:** AR Rahman met with Sam Altman at OpenAI to discuss AI's role in music, highlighting projects that blend music, technology, and storytelling.\"}},{\"confidence_scores\":[0.9777508],\"grounding_chunk_indices\":[0],\"segment\":{\"end_index\":614,\"start_index\":422,\"text\":\"*   **AI for Weather Prediction:** Google DeepMind and Google Research launched Weather Lab, an interactive website for sharing AI weather models to support better tropical cyclone prediction.\"}},{\"confidence_scores\":[0.9781864],\"grounding_chunk_indices\":[0],\"segment\":{\"end_index\":785,\"start_index\":615,\"text\":\"*   **AI for Genome Understanding:** Google introduced AlphaGenome, an AI model to advance regulatory variant-effect prediction and provide insights into genome function.\"}},{\"confidence_scores\":[0.89884746],\"grounding_chunk_indices\":[1],\"segment\":{\"end_index\":921,\"start_index\":816,\"text\":\"*   **AI Talent War:** Microsoft is actively hiring AI talent, including poaching from Google's DeepMind.\"}},{\"confidence_scores\":[0.8813885],\"grounding_chunk_indices\":[2],\"segment\":{\"end_index\":968,\"start_index\":922,\"text\":\"Meta has also hired AI researchers from Apple.\"}},{\"confidence_scores\":[0.96775705],\"grounding_chunk_indices\":[1],\"segment\":{\"end_index\":1083,\"start_index\":969,\"text\":\"*   **Investments in AI:** Gupshup raised over $60 million to expand its Conversational AI and messaging platform.\"}},{\"confidence_scores\":[0.93648016],\"grounding_chunk_indices\":[3],\"segment\":{\"end_index\":1147,\"start_index\":1084,\"text\":\"Salesforce is set to acquire Informatica in an $8 billion deal.\"}},{\"confidence_scores\":[0.9929219],\"grounding_chunk_indices\":[3],\"segment\":{\"end_index\":1216,\"start_index\":1148,\"text\":\"*   **OpenAI and Oracle:** Announced a Stargate AI data center deal.\"}},{\"confidence_scores\":[0.9410105],\"grounding_chunk_indices\":[4],\"segment\":{\"end_index\":1590,\"start_index\":1451,\"text\":\"*   **AI's Ethical Lapses:** A study revealed that even advanced AI models like ChatGPT can make basic errors in ethical medical decisions.\"}},{\"confidence_scores\":[0.9326316],\"grounding_chunk_indices\":[3],\"segment\":{\"end_index\":1693,\"start_index\":1613,\"text\":\"*   **AI in Insurance:** AI is changing the rules within the insurance industry.\"}},{\"confidence_scores\":[0.8607298],\"grounding_chunk_indices\":[2],\"segment\":{\"end_index\":1784,\"start_index\":1694,\"text\":\"*   **AI in Government:** The mayor of San Jose is using ChatGPT for speeches and budgets.\"}},{\"confidence_scores\":[0.9930803],\"grounding_chunk_indices\":[3],\"segment\":{\"end_index\":1881,\"start_index\":1785,\"text\":\"*   **Military AI:** Anthropic, OpenAI, Google, and xAI have been awarded military AI contracts.\"}},{\"confidence_scores\":[0.91692764],\"grounding_chunk_indices\":[3],\"segment\":{\"end_index\":1999,\"start_index\":1899,\"text\":\"*   **EU AI Code:** Tech giants are divided on the EU AI code as the compliance deadline approaches.\"}},{\"confidence_scores\":[0.9636622],\"grounding_chunk_indices\":[2],\"segment\":{\"end_index\":2080,\"start_index\":2000,\"text\":\"*   **Baby Grok:** Elon Musk announced a kid-friendly AI app called 'Baby Grok'.\"}},{\"confidence_scores\":[0.8091456],\"grounding_chunk_indices\":[0],\"segment\":{\"end_index\":2166,\"start_index\":2081,\"text\":\"*   **AI in Search:** Google is experimenting with AI-organized search results pages.\"}}],\"retrieval_metadata\":{},\"search_entry_point\":{\"rendered_content\":\"<style>\\n.container {\\n  align-items: center;\\n  border-radius: 8px;\\n  display: flex;\\n  font-family: Google Sans, Roboto, sans-serif;\\n  font-size: 14px;\\n  line-height: 20px;\\n  padding: 8px 12px;\\n}\\n.chip {\\n  display: inline-block;\\n  border: solid 1px;\\n  border-radius: 16px;\\n  min-width: 14px;\\n  padding: 5px 16px;\\n  text-align: center;\\n  user-select: none;\\n  margin: 0 8px;\\n  -webkit-tap-highlight-color: transparent;\\n}\\n.carousel {\\n  overflow: auto;\\n  scrollbar-width: none;\\n  white-space: nowrap;\\n  margin-right: -12px;\\n}\\n.headline {\\n  display: flex;\\n  margin-right: 4px;\\n}\\n.gradient-container {\\n  position: relative;\\n}\\n.gradient {\\n  position: absolute;\\n  transform: translate(3px, -9px);\\n  height: 36px;\\n  width: 9px;\\n}\\n@media (prefers-color-scheme: light) {\\n  .container {\\n    background-color: #fafafa;\\n    box-shadow: 0 0 0 1px #0000000f;\\n  }\\n  .headline-label {\\n    color: #1f1f1f;\\n  }\\n  .chip {\\n    background-color: #ffffff;\\n    border-color: #d2d2d2;\\n    color: #5e5e5e;\\n    text-decoration: none;\\n  }\\n  .chip:hover {\\n    background-color: #f2f2f2;\\n  }\\n  .chip:focus {\\n    background-color: #f2f2f2;\\n  }\\n  .chip:active {\\n    background-color: #d8d8d8;\\n    border-color: #b6b6b6;\\n  }\\n  .logo-dark {\\n    display: none;\\n  }\\n  .gradient {\\n    background: linear-gradient(90deg, #fafafa 15%, #fafafa00 100%);\\n  }\\n}\\n@media (prefers-color-scheme: dark) {\\n  .container {\\n    background-color: #1f1f1f;\\n    box-shadow: 0 0 0 1px #ffffff26;\\n  }\\n  .headline-label {\\n    color: #fff;\\n  }\\n  .chip {\\n    background-color: #2c2c2c;\\n    border-color: #3c4043;\\n    color: #fff;\\n    text-decoration: none;\\n  }\\n  .chip:hover {\\n    background-color: #353536;\\n  }\\n  .chip:focus {\\n    background-color: #353536;\\n  }\\n  .chip:active {\\n    background-color: #464849;\\n    border-color: #53575b;\\n  }\\n  .logo-light {\\n    display: none;\\n  }\\n  .gradient {\\n    background: linear-gradient(90deg, #1f1f1f 15%, #1f1f1f00 100%);\\n  }\\n}\\n</style>\\n<div class=\\\"container\\\">\\n  <div class=\\\"headline\\\">\\n    <svg class=\\\"logo-light\\\" width=\\\"18\\\" height=\\\"18\\\" viewBox=\\\"9 9 35 35\\\" fill=\\\"none\\\" xmlns=\\\"http://www.w3.org/2000/svg\\\">\\n      <path fill-rule=\\\"evenodd\\\" clip-rule=\\\"evenodd\\\" d=\\\"M42.8622 27.0064C42.8622 25.7839 42.7525 24.6084 42.5487 23.4799H26.3109V30.1568H35.5897C35.1821 32.3041 33.9596 34.1222 32.1258 35.3448V39.6864H37.7213C40.9814 36.677 42.8622 32.2571 42.8622 27.0064V27.0064Z\\\" fill=\\\"#4285F4\\\"/>\\n      <path fill-rule=\\\"evenodd\\\" clip-rule=\\\"evenodd\\\" d=\\\"M26.3109 43.8555C30.9659 43.8555 34.8687 42.3195 37.7213 39.6863L32.1258 35.3447C30.5898 36.3792 28.6306 37.0061 26.3109 37.0061C21.8282 37.0061 18.0195 33.9811 16.6559 29.906H10.9194V34.3573C13.7563 39.9841 19.5712 43.8555 26.3109 43.8555V43.8555Z\\\" fill=\\\"#34A853\\\"/>\\n      <path fill-rule=\\\"evenodd\\\" clip-rule=\\\"evenodd\\\" d=\\\"M16.6559 29.8904C16.3111 28.8559 16.1074 27.7588 16.1074 26.6146C16.1074 25.4704 16.3111 24.3733 16.6559 23.3388V18.8875H10.9194C9.74388 21.2072 9.06992 23.8247 9.06992 26.6146C9.06992 29.4045 9.74388 32.022 10.9194 34.3417L15.3864 30.8621L16.6559 29.8904V29.8904Z\\\" fill=\\\"#FBBC05\\\"/>\\n      <path fill-rule=\\\"evenodd\\\" clip-rule=\\\"evenodd\\\" d=\\\"M26.3109 16.2386C28.85 16.2386 31.107 17.1164 32.9095 18.8091L37.8466 13.8719C34.853 11.082 30.9659 9.3736 26.3109 9.3736C19.5712 9.3736 13.7563 13.245 10.9194 18.8875L16.6559 23.3388C18.0195 19.2636 21.8282 16.2386 26.3109 16.2386V16.2386Z\\\" fill=\\\"#EA4335\\\"/>\\n    </svg>\\n    <svg class=\\\"logo-dark\\\" width=\\\"18\\\" height=\\\"18\\\" viewBox=\\\"0 0 48 48\\\" xmlns=\\\"http://www.w3.org/2000/svg\\\">\\n      <circle cx=\\\"24\\\" cy=\\\"23\\\" fill=\\\"#FFF\\\" r=\\\"22\\\"/>\\n      <path d=\\\"M33.76 34.26c2.75-2.56 4.49-6.37 4.49-11.26 0-.89-.08-1.84-.29-3H24.01v5.99h8.03c-.4 2.02-1.5 3.56-3.07 4.56v.75l3.91 2.97h.88z\\\" fill=\\\"#4285F4\\\"/>\\n      <path d=\\\"M15.58 25.77A8.845 8.845 0 0 0 24 31.86c1.92 0 3.62-.46 4.97-1.31l4.79 3.71C31.14 36.7 27.65 38 24 38c-5.93 0-11.01-3.4-13.45-8.36l.17-1.01 4.06-2.85h.8z\\\" fill=\\\"#34A853\\\"/>\\n      <path d=\\\"M15.59 20.21a8.864 8.864 0 0 0 0 5.58l-5.03 3.86c-.98-2-1.53-4.25-1.53-6.64 0-2.39.55-4.64 1.53-6.64l1-.22 3.81 2.98.22 1.08z\\\" fill=\\\"#FBBC05\\\"/>\\n      <path d=\\\"M24 14.14c2.11 0 4.02.75 5.52 1.98l4.36-4.36C31.22 9.43 27.81 8 24 8c-5.93 0-11.01 3.4-13.45 8.36l5.03 3.85A8.86 8.86 0 0 1 24 14.14z\\\" fill=\\\"#EA4335\\\"/>\\n    </svg>\\n    <div class=\\\"gradient-container\\\"><div class=\\\"gradient\\\"></div></div>\\n  </div>\\n  <div class=\\\"carousel\\\">\\n    <a class=\\\"chip\\\" href=\\\"https://vertexaisearch.cloud.sandbox.google.com/grounding-api-redirect/AYcfRb8s-u32-pFrhzqDDlMWVwMYgalNid543RN-m223wmvLrcN19Cyt4FT_IIc0_Xurk4X3DtWsCxU9htNd1bSoSpB9bVdfbqrsnUFn5eZwrg1QLnTMaOBniPmAUT0x2eX2-uX8BOjG4a5iFwWdJvKvBIJOxzX7qzPePqluIamAZx3Iz-FHYRz31u_dyeFEqFKbyhtouv7Frq4IxNX_QGn412OEvGPHMndB\\\">latest artificial intelligence news</a>\\n  </div>\\n</div>\\n\"},\"web_search_queries\":[\"latest artificial intelligence news\"]}}],\"model_version\":\"gemini-2.0-flash-exp\",\"usage_metadata\":{\"candidates_token_count\":477,\"candidates_tokens_details\":[{\"modality\":\"TEXT\",\"token_count\":477}],\"prompt_token_count\":55,\"prompt_tokens_details\":[{\"modality\":\"TEXT\",\"token_count\":55}],\"total_token_count\":532},\"automatic_function_calling_history\":[]}\n",
      "-----------------------------------------------------------\n",
      "\n"
     ]
    },
    {
     "name": "stdout",
     "output_type": "stream",
     "text": [
      "Agent Response:  Here's a summary of the latest AI news:\n",
      "\n",
      "**AI Developments & Announcements**\n",
      "\n",
      "*   **Google's AI Updates:** In June, Google focused on making AI models faster and cheaper, improving voice search and photo finding, and aiding education and scientific research.\n",
      "*   **AI and Music:** AR Rahman met with Sam Altman at OpenAI to discuss AI's role in music, highlighting projects that blend music, technology, and storytelling.\n",
      "*   **AI for Weather Prediction:** Google DeepMind and Google Research launched Weather Lab, an interactive website for sharing AI weather models to support better tropical cyclone prediction.\n",
      "*   **AI for Genome Understanding:** Google introduced AlphaGenome, an AI model to advance regulatory variant-effect prediction and provide insights into genome function.\n",
      "\n",
      "**Business & Talent Moves**\n",
      "\n",
      "*   **AI Talent War:** Microsoft is actively hiring AI talent, including poaching from Google's DeepMind. Meta has also hired AI researchers from Apple.\n",
      "*   **Investments in AI:** Gupshup raised over $60 million to expand its Conversational AI and messaging platform. Salesforce is set to acquire Informatica in an $8 billion deal.\n",
      "*   **OpenAI and Oracle:** Announced a Stargate AI data center deal.\n",
      "\n",
      "**AI Safety & Ethical Concerns**\n",
      "\n",
      "*   **Sam Altman's Warnings:** Sam Altman (OpenAI CEO) warned of potential job losses and national security threats due to AI. He also cautioned bankers and regulators about a coming fraud \"crisis.\"\n",
      "*   **AI's Ethical Lapses:** A study revealed that even advanced AI models like ChatGPT can make basic errors in ethical medical decisions.\n",
      "\n",
      "**AI Applications**\n",
      "\n",
      "*   **AI in Insurance:** AI is changing the rules within the insurance industry.\n",
      "*   **AI in Government:** The mayor of San Jose is using ChatGPT for speeches and budgets.\n",
      "*   **Military AI:** Anthropic, OpenAI, Google, and xAI have been awarded military AI contracts.\n",
      "\n",
      "**Other News**\n",
      "\n",
      "*   **EU AI Code:** Tech giants are divided on the EU AI code as the compliance deadline approaches.\n",
      "*   **Baby Grok:** Elon Musk announced a kid-friendly AI app called 'Baby Grok'.\n",
      "*   **AI in Search:** Google is experimenting with AI-organized search results pages.\n",
      "\n"
     ]
    }
   ],
   "source": [
    "# Define variables required for Session setup and Agent execution\n",
    "APP_NAME=\"Google Search_agent\"\n",
    "USER_ID=\"user1234\"\n",
    "SESSION_ID=\"1234\"\n",
    "\n",
    "\n",
    "\n",
    "# Define Agent with access to search tool\n",
    "root_agent = ADKAgent(\n",
    "   name=\"basic_search_agent\",\n",
    "   model=\"gemini-2.0-flash-exp\",\n",
    "   description=\"Agent to answer questions using Google Search.\",\n",
    "   instruction=\"I can answer your questions by searching the internet. Just ask me anything!\",\n",
    "   tools=[google_search] # Google Search is a pre-built tool to perform Google searches.\n",
    ")\n",
    "\n",
    "\n",
    "\n",
    "\n",
    "# Agent Interaction\n",
    "async def call_agent(query):\n",
    "   \"\"\"\n",
    "   Helper function to call the agent with a query.\n",
    "   \"\"\"\n",
    "\n",
    "   # Session and Runner\n",
    "   session_service = InMemorySessionService()\n",
    "   session = await session_service.create_session(app_name=APP_NAME, user_id=USER_ID, session_id=SESSION_ID)\n",
    "   runner = Runner(agent=root_agent, app_name=APP_NAME, session_service=session_service)\n",
    "\n",
    "   content = types.Content(role='user', parts=[types.Part(text=query)])\n",
    "   events = runner.run(user_id=USER_ID, session_id=SESSION_ID, new_message=content)\n",
    "\n",
    "\n",
    "   for event in events:\n",
    "       if event.is_final_response():\n",
    "           final_response = event.content.parts[0].text\n",
    "           print(\"Agent Response: \", final_response)\n",
    "\n",
    "nest_asyncio.apply()\n",
    "\n",
    "asyncio.run(call_agent(\"what's the latest ai news?\"))"
   ]
  },
  {
   "cell_type": "markdown",
   "id": "6dde5f6e-4d28-4015-842d-5b53beb5b638",
   "metadata": {
    "id": "6dde5f6e-4d28-4015-842d-5b53beb5b638"
   },
   "source": [
    "## 5.2 Agent with Code Tool"
   ]
  },
  {
   "cell_type": "code",
   "execution_count": 13,
   "id": "d0e485c0-98a8-49a8-a373-7832c500b955",
   "metadata": {
    "colab": {
     "base_uri": "https://localhost:8080/"
    },
    "execution": {
     "iopub.execute_input": "2025-07-25T06:23:45.294602Z",
     "iopub.status.busy": "2025-07-25T06:23:45.294355Z",
     "iopub.status.idle": "2025-07-25T06:24:04.644288Z",
     "shell.execute_reply": "2025-07-25T06:24:04.642573Z"
    },
    "id": "d0e485c0-98a8-49a8-a373-7832c500b955",
    "outputId": "a5b0856c-d593-4de5-917c-15229dec1613",
    "scrolled": true
   },
   "outputs": [
    {
     "name": "stderr",
     "output_type": "stream",
     "text": [
      "2025-07-25 11:53:45,359 - INFO - Sending out request, model: gemini-2.0-flash, backend: GoogleLLMVariant.GEMINI_API, stream: False\n"
     ]
    },
    {
     "name": "stderr",
     "output_type": "stream",
     "text": [
      "2025-07-25 11:53:45,359 - INFO - \n",
      "LLM Request:\n",
      "-----------------------------------------------------------\n",
      "System Instruction:\n",
      "You are a calculator agent.\n",
      "   When given a mathematical expression, write and execute Python code to calculate the result.\n",
      "   Return only the final numerical result as plain text, without markdown or code blocks.\n",
      "   \n",
      "\n",
      "You are an agent. Your internal name is \"calculator_agent\".\n",
      "\n",
      " The description about you is \"Executes Python code to perform calculations.\"\n",
      "-----------------------------------------------------------\n",
      "Contents:\n",
      "{\"parts\":[{\"text\":\"Calculate the value of (5 + 7) * 3\"}],\"role\":\"user\"}\n",
      "-----------------------------------------------------------\n",
      "Functions:\n",
      "\n",
      "-----------------------------------------------------------\n",
      "\n"
     ]
    },
    {
     "name": "stderr",
     "output_type": "stream",
     "text": [
      "2025-07-25 11:53:45,359 - INFO - AFC is enabled with max remote calls: 10.\n"
     ]
    },
    {
     "name": "stdout",
     "output_type": "stream",
     "text": [
      "\n",
      "--- Running Query: Calculate the value of (5 + 7) * 3 ---\n"
     ]
    },
    {
     "name": "stderr",
     "output_type": "stream",
     "text": [
      "2025-07-25 11:53:56,140 - WARNING - Warning: there are non-text parts in the response: ['executable_code', 'code_execution_result'], returning concatenated text result from text parts. Check the full candidates.content.parts accessor to get the full model response.\n"
     ]
    },
    {
     "name": "stderr",
     "output_type": "stream",
     "text": [
      "2025-07-25 11:53:56,142 - INFO - \n",
      "LLM Response:\n",
      "-----------------------------------------------------------\n",
      "Text:\n",
      "36\n",
      "\n",
      "-----------------------------------------------------------\n",
      "Function calls:\n",
      "\n",
      "-----------------------------------------------------------\n",
      "Raw response:\n",
      "{\"sdk_http_response\":{\"headers\":{\"Content-Type\":\"application/json; charset=UTF-8\",\"Vary\":\"Origin, X-Origin, Referer\",\"Content-Encoding\":\"gzip\",\"Date\":\"Fri, 25 Jul 2025 06:23:55 GMT\",\"Server\":\"scaffolding on HTTPServer2\",\"X-XSS-Protection\":\"0\",\"X-Frame-Options\":\"SAMEORIGIN\",\"X-Content-Type-Options\":\"nosniff\",\"Server-Timing\":\"gfet4t7; dur=10601\",\"Alt-Svc\":\"h3=\\\":443\\\"; ma=2592000,h3-29=\\\":443\\\"; ma=2592000\",\"Transfer-Encoding\":\"chunked\"}},\"candidates\":[{\"content\":{\"parts\":[{\"executable_code\":{\"code\":\"print((5 + 7) * 3)\\n\",\"language\":\"PYTHON\"}},{\"code_execution_result\":{\"outcome\":\"OUTCOME_OK\",\"output\":\"36\\n\"}},{\"text\":\"36\\n\"}],\"role\":\"model\"},\"finish_reason\":\"STOP\"}],\"model_version\":\"gemini-2.0-flash\",\"usage_metadata\":{\"candidates_token_count\":18,\"candidates_tokens_details\":[{\"modality\":\"TEXT\",\"token_count\":18}],\"prompt_token_count\":87,\"prompt_tokens_details\":[{\"modality\":\"TEXT\",\"token_count\":87}],\"tool_use_prompt_token_count\":102,\"tool_use_prompt_tokens_details\":[{\"modality\":\"TEXT\",\"token_count\":102}],\"total_token_count\":207},\"automatic_function_calling_history\":[]}\n",
      "-----------------------------------------------------------\n",
      "\n"
     ]
    },
    {
     "name": "stderr",
     "output_type": "stream",
     "text": [
      "2025-07-25 11:53:56,218 - INFO - Sending out request, model: gemini-2.0-flash, backend: GoogleLLMVariant.GEMINI_API, stream: False\n"
     ]
    },
    {
     "name": "stderr",
     "output_type": "stream",
     "text": [
      "2025-07-25 11:53:56,219 - INFO - \n",
      "LLM Request:\n",
      "-----------------------------------------------------------\n",
      "System Instruction:\n",
      "You are a calculator agent.\n",
      "   When given a mathematical expression, write and execute Python code to calculate the result.\n",
      "   Return only the final numerical result as plain text, without markdown or code blocks.\n",
      "   \n",
      "\n",
      "You are an agent. Your internal name is \"calculator_agent\".\n",
      "\n",
      " The description about you is \"Executes Python code to perform calculations.\"\n",
      "-----------------------------------------------------------\n",
      "Contents:\n",
      "{\"parts\":[{\"text\":\"What is 10 factorial?\"}],\"role\":\"user\"}\n",
      "-----------------------------------------------------------\n",
      "Functions:\n",
      "\n",
      "-----------------------------------------------------------\n",
      "\n"
     ]
    },
    {
     "name": "stderr",
     "output_type": "stream",
     "text": [
      "2025-07-25 11:53:56,219 - INFO - AFC is enabled with max remote calls: 10.\n"
     ]
    },
    {
     "name": "stderr",
     "output_type": "stream",
     "text": [
      "2025-07-25 11:53:56,227 - ERROR - Task was destroyed but it is pending!\n",
      "task: <Task pending name='Task-176' coro=<AsyncClient.aclose() running at /Users/shishirsuman/Technology/Learning/Courses/Agents/.venv/lib/python3.11/site-packages/httpx/_client.py:1978>>\n"
     ]
    },
    {
     "name": "stderr",
     "output_type": "stream",
     "text": [
      "/Users/shishirsuman/.local/share/uv/python/cpython-3.11.11-macos-aarch64-none/lib/python3.11/asyncio/base_events.py:679: RuntimeWarning: coroutine 'AsyncClient.aclose' was never awaited\n",
      "  self._ready.clear()\n",
      "RuntimeWarning: Enable tracemalloc to get the object allocation traceback\n"
     ]
    },
    {
     "name": "stdout",
     "output_type": "stream",
     "text": [
      "Event ID: 4cde81f6-2064-4a4e-9448-7cc0f2b126f7, Author: calculator_agent\n",
      "  Debug: Agent generated code:\n",
      "```python\n",
      "print((5 + 7) * 3)\n",
      "\n",
      "```\n",
      "  Debug: Code Execution Result: Outcome.OUTCOME_OK - Output:\n",
      "36\n",
      "\n",
      "  Text: '36'\n",
      "==> Final Agent Response: 36\n",
      "\n",
      "------------------------------\n",
      "\n",
      "--- Running Query: What is 10 factorial? ---\n"
     ]
    },
    {
     "name": "stderr",
     "output_type": "stream",
     "text": [
      "2025-07-25 11:54:04,631 - WARNING - Warning: there are non-text parts in the response: ['executable_code', 'code_execution_result'], returning concatenated text result from text parts. Check the full candidates.content.parts accessor to get the full model response.\n"
     ]
    },
    {
     "name": "stderr",
     "output_type": "stream",
     "text": [
      "2025-07-25 11:54:04,632 - INFO - \n",
      "LLM Response:\n",
      "-----------------------------------------------------------\n",
      "Text:\n",
      "3628800\n",
      "\n",
      "-----------------------------------------------------------\n",
      "Function calls:\n",
      "\n",
      "-----------------------------------------------------------\n",
      "Raw response:\n",
      "{\"sdk_http_response\":{\"headers\":{\"Content-Type\":\"application/json; charset=UTF-8\",\"Vary\":\"Origin, X-Origin, Referer\",\"Content-Encoding\":\"gzip\",\"Date\":\"Fri, 25 Jul 2025 06:24:04 GMT\",\"Server\":\"scaffolding on HTTPServer2\",\"X-XSS-Protection\":\"0\",\"X-Frame-Options\":\"SAMEORIGIN\",\"X-Content-Type-Options\":\"nosniff\",\"Server-Timing\":\"gfet4t7; dur=8255\",\"Alt-Svc\":\"h3=\\\":443\\\"; ma=2592000,h3-29=\\\":443\\\"; ma=2592000\",\"Transfer-Encoding\":\"chunked\"}},\"candidates\":[{\"content\":{\"parts\":[{\"executable_code\":{\"code\":\"import math\\nprint(math.factorial(10))\\n\",\"language\":\"PYTHON\"}},{\"code_execution_result\":{\"outcome\":\"OUTCOME_OK\",\"output\":\"3628800\\n\"}},{\"text\":\"3628800\\n\"}],\"role\":\"model\"},\"finish_reason\":\"STOP\"}],\"model_version\":\"gemini-2.0-flash\",\"usage_metadata\":{\"candidates_token_count\":29,\"candidates_tokens_details\":[{\"modality\":\"TEXT\",\"token_count\":29}],\"prompt_token_count\":81,\"prompt_tokens_details\":[{\"modality\":\"TEXT\",\"token_count\":81}],\"tool_use_prompt_token_count\":102,\"tool_use_prompt_tokens_details\":[{\"modality\":\"TEXT\",\"token_count\":102}],\"total_token_count\":212},\"automatic_function_calling_history\":[]}\n",
      "-----------------------------------------------------------\n",
      "\n"
     ]
    },
    {
     "name": "stdout",
     "output_type": "stream",
     "text": [
      "Event ID: a6f2b72b-74f3-41db-b61e-c36c86d5b6a1, Author: calculator_agent\n",
      "  Debug: Agent generated code:\n",
      "```python\n",
      "import math\n",
      "print(math.factorial(10))\n",
      "\n",
      "```\n",
      "  Debug: Code Execution Result: Outcome.OUTCOME_OK - Output:\n",
      "3628800\n",
      "\n",
      "  Text: '3628800'\n",
      "==> Final Agent Response: 3628800\n",
      "\n",
      "------------------------------\n"
     ]
    }
   ],
   "source": [
    "# Define variables required for Session setup and Agent execution\n",
    "APP_NAME=\"calculator\"\n",
    "USER_ID=\"user1234\"\n",
    "SESSION_ID=\"session_code_exec_async\"\n",
    "\n",
    "\n",
    "# Agent Definition\n",
    "code_agent = LlmAgent(\n",
    "   name=\"calculator_agent\",\n",
    "   model=\"gemini-2.0-flash\",\n",
    "   code_executor=BuiltInCodeExecutor(),\n",
    "   instruction=\"\"\"You are a calculator agent.\n",
    "   When given a mathematical expression, write and execute Python code to calculate the result.\n",
    "   Return only the final numerical result as plain text, without markdown or code blocks.\n",
    "   \"\"\",\n",
    "   description=\"Executes Python code to perform calculations.\",\n",
    ")\n",
    "\n",
    "# Agent Interaction (Async)\n",
    "async def call_agent_async(query):\n",
    "\n",
    "   # Session and Runner\n",
    "   session_service = InMemorySessionService()\n",
    "   session = await session_service.create_session(app_name=APP_NAME, user_id=USER_ID, session_id=SESSION_ID)\n",
    "   runner = Runner(agent=code_agent, app_name=APP_NAME, session_service=session_service)\n",
    "\n",
    "   content = types.Content(role='user', parts=[types.Part(text=query)])\n",
    "   print(f\"\\n--- Running Query: {query} ---\")\n",
    "   final_response_text = \"No final text response captured.\"\n",
    "   try:\n",
    "       # Use run_async\n",
    "       async for event in runner.run_async(user_id=USER_ID, session_id=SESSION_ID, new_message=content):\n",
    "           print(f\"Event ID: {event.id}, Author: {event.author}\")\n",
    "\n",
    "           # --- Check for specific parts FIRST ---\n",
    "           # has_specific_part = False\n",
    "           if event.content and event.content.parts and event.is_final_response():\n",
    "               for part in event.content.parts: # Iterate through all parts\n",
    "                   if part.executable_code:\n",
    "                       # Access the actual code string via .code\n",
    "                       print(f\"  Debug: Agent generated code:\\n```python\\n{part.executable_code.code}\\n```\")\n",
    "                       has_specific_part = True\n",
    "                   elif part.code_execution_result:\n",
    "                       # Access outcome and output correctly\n",
    "                       print(f\"  Debug: Code Execution Result: {part.code_execution_result.outcome} - Output:\\n{part.code_execution_result.output}\")\n",
    "                       has_specific_part = True\n",
    "                   # Also print any text parts found in any event for debugging\n",
    "                   elif part.text and not part.text.isspace():\n",
    "                       print(f\"  Text: '{part.text.strip()}'\")\n",
    "                       # Do not set has_specific_part=True here, as we want the final response logic below\n",
    "\n",
    "               # --- Check for final response AFTER specific parts ---\n",
    "               text_parts = [part.text for part in event.content.parts if part.text]\n",
    "               final_result = \"\".join(text_parts)\n",
    "               print(f\"==> Final Agent Response: {final_result}\")\n",
    "\n",
    "   except Exception as e:\n",
    "       print(f\"ERROR during agent run: {e}\")\n",
    "   print(\"-\" * 30)\n",
    "\n",
    "# Main async function to run the examples\n",
    "async def main():\n",
    "   await call_agent_async(\"Calculate the value of (5 + 7) * 3\")\n",
    "   await call_agent_async(\"What is 10 factorial?\")\n",
    "\n",
    "\n",
    "# Execute the main async function\n",
    "try:\n",
    "   nest_asyncio.apply()\n",
    "   asyncio.run(main())\n",
    "except RuntimeError as e:\n",
    "   # Handle specific error when running asyncio.run in an already running loop (like Jupyter/Colab)\n",
    "   if \"cannot be called from a running event loop\" in str(e):\n",
    "       print(\"\\nRunning in an existing event loop (like Colab/Jupyter).\")\n",
    "       print(\"Please run `await main()` in a notebook cell instead.\")\n",
    "       # If in an interactive environment like a notebook, you might need to run:\n",
    "       # await main()\n",
    "   else:\n",
    "       raise e # Re-raise other runtime errors"
   ]
  },
  {
   "cell_type": "markdown",
   "id": "wJEScHHvGfub",
   "metadata": {
    "id": "wJEScHHvGfub"
   },
   "source": [
    "End of notebook!"
   ]
  }
 ],
 "metadata": {
  "colab": {
   "provenance": []
  },
  "kernelspec": {
   "display_name": "Python 3 (ipykernel)",
   "language": "python",
   "name": "python3"
  },
  "language_info": {
   "codemirror_mode": {
    "name": "ipython",
    "version": 3
   },
   "file_extension": ".py",
   "mimetype": "text/x-python",
   "name": "python",
   "nbconvert_exporter": "python",
   "pygments_lexer": "ipython3",
   "version": "3.11.11"
  },
  "widgets": {
   "application/vnd.jupyter.widget-state+json": {
    "0497ff5c13674844b55ac33d3b6648e3": {
     "model_module": "@jupyter-widgets/base",
     "model_module_version": "1.2.0",
     "model_name": "LayoutModel",
     "state": {
      "_model_module": "@jupyter-widgets/base",
      "_model_module_version": "1.2.0",
      "_model_name": "LayoutModel",
      "_view_count": null,
      "_view_module": "@jupyter-widgets/base",
      "_view_module_version": "1.2.0",
      "_view_name": "LayoutView",
      "align_content": null,
      "align_items": null,
      "align_self": null,
      "border": null,
      "bottom": null,
      "display": null,
      "flex": null,
      "flex_flow": null,
      "grid_area": null,
      "grid_auto_columns": null,
      "grid_auto_flow": null,
      "grid_auto_rows": null,
      "grid_column": null,
      "grid_gap": null,
      "grid_row": null,
      "grid_template_areas": null,
      "grid_template_columns": null,
      "grid_template_rows": null,
      "height": null,
      "justify_content": null,
      "justify_items": null,
      "left": null,
      "margin": null,
      "max_height": null,
      "max_width": null,
      "min_height": null,
      "min_width": null,
      "object_fit": null,
      "object_position": null,
      "order": null,
      "overflow": null,
      "overflow_x": null,
      "overflow_y": null,
      "padding": null,
      "right": null,
      "top": null,
      "visibility": null,
      "width": null
     }
    },
    "7a1bf0c71f61443db1e5d2447a62b35b": {
     "model_module": "@jupyter-widgets/output",
     "model_module_version": "1.0.0",
     "model_name": "OutputModel",
     "state": {
      "_dom_classes": [],
      "_model_module": "@jupyter-widgets/output",
      "_model_module_version": "1.0.0",
      "_model_name": "OutputModel",
      "_view_count": null,
      "_view_module": "@jupyter-widgets/output",
      "_view_module_version": "1.0.0",
      "_view_name": "OutputView",
      "layout": "IPY_MODEL_c55eb2b50828424882fd461e91b5ac2d",
      "msg_id": "",
      "outputs": [
       {
        "data": {
         "text/html": "<pre style=\"white-space:pre;overflow-x:auto;line-height:normal;font-family:Menlo,'DejaVu Sans Mono',consolas,'Courier New',monospace\"><span style=\"color: #008080; text-decoration-color: #008080; font-weight: bold\">🚀 Crew: crew</span>\n└── <span style=\"color: #808000; text-decoration-color: #808000; font-weight: bold\">📋 Task: ab50b294-e9d6-4ec1-8e23-9bd5e1173479</span>\n    <span style=\"color: #c0c0c0; text-decoration-color: #c0c0c0\">Status: </span><span style=\"color: #bfbf7f; text-decoration-color: #bfbf7f\">Executing Task...</span>\n    └── <span style=\"color: #808000; text-decoration-color: #808000; font-weight: bold\">🔧 </span><span style=\"color: #808000; text-decoration-color: #808000\">Using Stock Price Lookup Tool (1)</span>\n</pre>\n",
         "text/plain": "\u001b[1;36m🚀 Crew: \u001b[0m\u001b[1;36mcrew\u001b[0m\n└── \u001b[1;33m📋 Task: ab50b294-e9d6-4ec1-8e23-9bd5e1173479\u001b[0m\n    \u001b[37mStatus: \u001b[0m\u001b[2;33mExecuting Task...\u001b[0m\n    └── \u001b[1;33m🔧 \u001b[0m\u001b[33mUsing Stock Price Lookup Tool (1)\u001b[0m\n"
        },
        "metadata": {},
        "output_type": "display_data"
       }
      ]
     }
    },
    "c55eb2b50828424882fd461e91b5ac2d": {
     "model_module": "@jupyter-widgets/base",
     "model_module_version": "1.2.0",
     "model_name": "LayoutModel",
     "state": {
      "_model_module": "@jupyter-widgets/base",
      "_model_module_version": "1.2.0",
      "_model_name": "LayoutModel",
      "_view_count": null,
      "_view_module": "@jupyter-widgets/base",
      "_view_module_version": "1.2.0",
      "_view_name": "LayoutView",
      "align_content": null,
      "align_items": null,
      "align_self": null,
      "border": null,
      "bottom": null,
      "display": null,
      "flex": null,
      "flex_flow": null,
      "grid_area": null,
      "grid_auto_columns": null,
      "grid_auto_flow": null,
      "grid_auto_rows": null,
      "grid_column": null,
      "grid_gap": null,
      "grid_row": null,
      "grid_template_areas": null,
      "grid_template_columns": null,
      "grid_template_rows": null,
      "height": null,
      "justify_content": null,
      "justify_items": null,
      "left": null,
      "margin": null,
      "max_height": null,
      "max_width": null,
      "min_height": null,
      "min_width": null,
      "object_fit": null,
      "object_position": null,
      "order": null,
      "overflow": null,
      "overflow_x": null,
      "overflow_y": null,
      "padding": null,
      "right": null,
      "top": null,
      "visibility": null,
      "width": null
     }
    },
    "fd5b4fb5040e4e36959565afea9e7701": {
     "model_module": "@jupyter-widgets/output",
     "model_module_version": "1.0.0",
     "model_name": "OutputModel",
     "state": {
      "_dom_classes": [],
      "_model_module": "@jupyter-widgets/output",
      "_model_module_version": "1.0.0",
      "_model_name": "OutputModel",
      "_view_count": null,
      "_view_module": "@jupyter-widgets/output",
      "_view_module_version": "1.0.0",
      "_view_name": "OutputView",
      "layout": "IPY_MODEL_0497ff5c13674844b55ac33d3b6648e3",
      "msg_id": "",
      "outputs": [
       {
        "data": {
         "text/html": "<pre style=\"white-space:pre;overflow-x:auto;line-height:normal;font-family:Menlo,'DejaVu Sans Mono',consolas,'Courier New',monospace\"><span style=\"color: #008080; text-decoration-color: #008080; font-weight: bold\">🚀 Crew: crew</span>\n└── <span style=\"color: #808000; text-decoration-color: #808000; font-weight: bold\">📋 Task: ab50b294-e9d6-4ec1-8e23-9bd5e1173479</span>\n    <span style=\"color: #c0c0c0; text-decoration-color: #c0c0c0\">Status: </span><span style=\"color: #bfbf7f; text-decoration-color: #bfbf7f\">Executing Task...</span>\n    └── <span style=\"color: #008000; text-decoration-color: #008000; font-weight: bold\">🔧 </span><span style=\"color: #008000; text-decoration-color: #008000\">Used Stock Price Lookup Tool (1)</span>\n</pre>\n",
         "text/plain": "\u001b[1;36m🚀 Crew: \u001b[0m\u001b[1;36mcrew\u001b[0m\n└── \u001b[1;33m📋 Task: ab50b294-e9d6-4ec1-8e23-9bd5e1173479\u001b[0m\n    \u001b[37mStatus: \u001b[0m\u001b[2;33mExecuting Task...\u001b[0m\n    └── \u001b[1;32m🔧 \u001b[0m\u001b[32mUsed Stock Price Lookup Tool (1)\u001b[0m\n"
        },
        "metadata": {},
        "output_type": "display_data"
       }
      ]
     }
    }
   }
  }
 },
 "nbformat": 4,
 "nbformat_minor": 5
}
